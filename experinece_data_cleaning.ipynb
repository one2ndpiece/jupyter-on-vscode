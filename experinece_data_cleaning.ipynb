{
 "cells": [
  {
   "cell_type": "code",
   "execution_count": 2,
   "metadata": {},
   "outputs": [],
   "source": [
    "import pandas as pd\n",
    "import numpy as np\n",
    "import random\n",
    "\n",
    "# 乱数シードを設定\n",
    "np.random.seed(0)\n",
    "\n",
    "# データ数\n",
    "n = 100\n",
    "\n",
    "# サンプルデータを生成\n",
    "df = pd.DataFrame({\n",
    "    'id': range(1, n+1),\n",
    "    'name': [f\"User {i}  \" if i % 10 == 0 else f\"User {i}\" for i in range(1, n+1)],\n",
    "    'age': [random.randint(18, 60) if i % 15 != 0 else np.nan for i in range(1, n+1)],\n",
    "    'income': [round(random.uniform(2000.0, 10000.0), 2) if i % 8 != 0 else np.nan for i in range(1, n+1)]\n",
    "})\n",
    "\n",
    "# CSVファイルとして保存\n",
    "csv_file_path = 'sample_data.csv'\n",
    "df.to_csv(csv_file_path, index=False)\n"
   ]
  },
  {
   "cell_type": "code",
   "execution_count": 3,
   "metadata": {},
   "outputs": [
    {
     "name": "stdout",
     "output_type": "stream",
     "text": [
      "^C\n"
     ]
    }
   ],
   "source": [
    "!psql -U postgres"
   ]
  },
  {
   "cell_type": "code",
   "execution_count": 6,
   "metadata": {},
   "outputs": [
    {
     "name": "stdout",
     "output_type": "stream",
     "text": [
      "Using version ^2.9.8 for psycopg2\n",
      "\n",
      "Updating dependencies\n",
      "Resolving dependencies...\n",
      "\n",
      "Package operations: 1 install, 0 updates, 0 removals\n",
      "\n",
      "  • Installing psycopg2 (2.9.8)\n",
      "\n",
      "Writing lock file\n"
     ]
    }
   ],
   "source": [
    "!poetry add psycopg2"
   ]
  },
  {
   "cell_type": "code",
   "execution_count": 1,
   "metadata": {},
   "outputs": [
    {
     "name": "stdout",
     "output_type": "stream",
     "text": [
      "    id     name   age  income\n",
      "0   15  User 15   NaN  6506.0\n",
      "1   30  User 30   NaN  7021.0\n",
      "2   45  User 45   NaN  3833.0\n",
      "3   60  User 60   NaN  6978.0\n",
      "4   75  User 75   NaN  9588.0\n",
      "5   90  User 90   NaN  4584.0\n",
      "6    1   User 1  21.0  5867.0\n",
      "7    3   User 3  50.0  6033.0\n",
      "8    4   User 4  30.0  9038.0\n",
      "9    5   User 5  36.0  8039.0\n",
      "10   6   User 6  55.0  9040.0\n",
      "11   7   User 7  33.0  6463.0\n",
      "12  10  User 10  42.0  6556.0\n",
      "13  11  User 11  33.0  5153.0\n",
      "14  12  User 12  36.0  2319.0\n",
      "15  13  User 13  44.0  5480.0\n",
      "16  14  User 14  29.0  6386.0\n",
      "17  17  User 17  27.0  6996.0\n",
      "18  18  User 18  59.0  2140.0\n",
      "19  19  User 19  27.0  6881.0\n",
      "20  20  User 20  34.0  8466.0\n",
      "21  21  User 21  59.0  2186.0\n",
      "22  22  User 22  35.0  8326.0\n",
      "23  23  User 23  53.0  5946.0\n",
      "24  25  User 25  40.0  9684.0\n",
      "25  26  User 26  56.0  8916.0\n",
      "26  27  User 27  51.0  6293.0\n",
      "27  28  User 28  58.0  6054.0\n",
      "28  29  User 29  26.0  8830.0\n",
      "29  33  User 33  58.0  9261.0\n"
     ]
    },
    {
     "name": "stderr",
     "output_type": "stream",
     "text": [
      "C:\\Users\\SOTHINK\\AppData\\Local\\Temp\\ipykernel_3776\\4118856295.py:15: UserWarning: pandas only supports SQLAlchemy connectable (engine/connection) or database string URI or sqlite3 DBAPI2 connection. Other DBAPI2 objects are not tested. Please consider using SQLAlchemy.\n",
      "  df = pd.read_sql_query(sql_query, conn)\n"
     ]
    }
   ],
   "source": [
    "import psycopg2\n",
    "import pandas as pd\n",
    "\n",
    "# データベース接続情報\n",
    "host = \"localhost\"\n",
    "database = \"sampledb\"\n",
    "user = \"postgres\"\n",
    "password = \"admin\"\n",
    "\n",
    "# データベースに接続\n",
    "conn = psycopg2.connect(host=host, dbname=database, user=user, password=password)\n",
    "\n",
    "# SQLクエリを実行してデータを取得\n",
    "sql_query = \"SELECT * FROM users;\"\n",
    "df = pd.read_sql_query(sql_query, conn)\n",
    "\n",
    "# データベース接続を閉じる\n",
    "conn.close()\n",
    "\n",
    "# データを表示\n",
    "print(df.head(30))\n"
   ]
  },
  {
   "cell_type": "code",
   "execution_count": 2,
   "metadata": {},
   "outputs": [],
   "source": [
    "import pandas as pd\n",
    "import random\n",
    "\n",
    "# 100個のサンプルデータを生成\n",
    "data = {\n",
    "    'id': range(1, 101),\n",
    "    'name': [f'User {i}' for i in range(1, 101)],\n",
    "    'age': [random.randint(18, 60) for _ in range(100)],\n",
    "    'income': [random.randint(3000, 10000) for _ in range(100)]\n",
    "}\n",
    "\n",
    "# データをDataFrameに格納\n",
    "df = pd.DataFrame(data)\n",
    "\n",
    "# CSVファイルとして保存\n",
    "df.to_csv(\"sample_data_100.csv\", index=False)\n"
   ]
  },
  {
   "cell_type": "code",
   "execution_count": null,
   "metadata": {},
   "outputs": [],
   "source": [
    "import pandas as pd\n",
    "import random\n",
    "import numpy as np\n",
    "\n",
    "# 100個のサンプルデータを生成\n",
    "data = {\n",
    "    'id': range(1, 101),\n",
    "    'name': [f'User {i}' for i in range(1, 101)],\n",
    "    'age': [random.randint(18, 60) if random.random() > 0.2 else np.nan for _ in range(100)],\n",
    "    'income': [random.randint(3000, 10000) if random.random() > 0.2 else np.nan for _ in range(100)]\n",
    "}\n",
    "\n",
    "# データをDataFrameに格納\n",
    "df = pd.DataFrame(data)\n",
    "\n",
    "# CSVファイルとして保存\n",
    "sample_data_path = 'sample_data_100_with_null.csv'\n",
    "df.to_csv(sample_data_path, index=False)"
   ]
  },
  {
   "cell_type": "code",
   "execution_count": null,
   "metadata": {},
   "outputs": [],
   "source": []
  }
 ],
 "metadata": {
  "kernelspec": {
   "display_name": "jupyter-on-vscode-hB3JH4zr-py3.11",
   "language": "python",
   "name": "python3"
  },
  "language_info": {
   "codemirror_mode": {
    "name": "ipython",
    "version": 3
   },
   "file_extension": ".py",
   "mimetype": "text/x-python",
   "name": "python",
   "nbconvert_exporter": "python",
   "pygments_lexer": "ipython3",
   "version": "3.11.4"
  },
  "orig_nbformat": 4
 },
 "nbformat": 4,
 "nbformat_minor": 2
}
