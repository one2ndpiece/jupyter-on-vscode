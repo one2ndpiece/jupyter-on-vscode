{
 "cells": [
  {
   "cell_type": "code",
   "execution_count": 2,
   "metadata": {},
   "outputs": [
    {
     "name": "stdout",
     "output_type": "stream",
     "text": [
      "asttokens         2.2.1  Annotate AST trees with source code positions\n",
      "backcall          0.2.0  Specifications for callback functions passed in to...\n",
      "colorama          0.4.6  Cross-platform colored terminal text.\n",
      "decorator         5.1.1  Decorators for Humans\n",
      "executing         1.2.0  Get the currently executing AST node of a frame, a...\n",
      "ipython           8.14.0 IPython: Productive Interactive Computing\n",
      "jedi              0.18.2 An autocompletion tool for Python that can be used...\n",
      "matplotlib-inline 0.1.6  Inline Matplotlib backend for Jupyter\n",
      "numpy             1.25.1 Fundamental package for array computing in Python\n",
      "parso             0.8.3  A Python Parser\n",
      "pickleshare       0.7.5  Tiny 'shelve'-like database with concurrency support\n",
      "prompt-toolkit    3.0.39 Library for building powerful interactive command ...\n",
      "pure-eval         0.2.2  Safely evaluate AST nodes without side effects\n",
      "pygments          2.15.1 Pygments is a syntax highlighting package written ...\n",
      "six               1.16.0 Python 2 and 3 compatibility utilities\n",
      "stack-data        0.6.2  Extract data from python stack frames and tracebac...\n",
      "traitlets         5.9.0  Traitlets Python configuration system\n",
      "wcwidth           0.2.6  Measures the displayed width of unicode strings in...\n"
     ]
    }
   ],
   "source": [
    "!poetry show"
   ]
  },
  {
   "cell_type": "code",
   "execution_count": 1,
   "metadata": {},
   "outputs": [
    {
     "name": "stdout",
     "output_type": "stream",
     "text": [
      "The following packages are already present in the pyproject.toml and will be skipped:\n",
      "\n",
      "  • yt_dlp\n",
      "\n",
      "If you want to update it to the latest compatible version, you can use `poetry update package`.\n",
      "If you prefer to upgrade it to the latest available version, you can use `poetry add package@latest`.\n",
      "\n",
      "Nothing to add.\n"
     ]
    }
   ],
   "source": [
    "!poetry add yt_dlp"
   ]
  },
  {
   "cell_type": "code",
   "execution_count": 5,
   "metadata": {},
   "outputs": [
    {
     "name": "stdout",
     "output_type": "stream",
     "text": [
      "[youtube] Extracting URL: https://youtu.be/aUW19j0Lz_8\n",
      "[youtube] aUW19j0Lz_8: Downloading webpage\n",
      "[youtube] aUW19j0Lz_8: Downloading ios player API JSON\n",
      "[youtube] aUW19j0Lz_8: Downloading android player API JSON\n",
      "[youtube] aUW19j0Lz_8: Downloading m3u8 information\n",
      "[info] aUW19j0Lz_8: Downloading 1 format(s): 18\n",
      "[download] Destination: 松田語録：ホーキンスのビジョン〜LLMはダメ、もっと脳に学べ [aUW19j0Lz_8].mp4\n",
      "[download] 100% of   63.39MiB in 00:00:03 at 16.80MiB/s    \n"
     ]
    },
    {
     "data": {
      "text/plain": [
       "0"
      ]
     },
     "execution_count": 5,
     "metadata": {},
     "output_type": "execute_result"
    }
   ],
   "source": [
    "from yt_dlp import YoutubeDL\n",
    "\n",
    "yt_opts=YoutubeDL({'format': 'mp4'})\n",
    "yt_opts.download('https://youtu.be/aUW19j0Lz_8')"
   ]
  },
  {
   "cell_type": "code",
   "execution_count": 9,
   "metadata": {},
   "outputs": [
    {
     "name": "stdout",
     "output_type": "stream",
     "text": [
      "asttokens         2.2.1      Annotate AST trees with source code positions\n",
      "backcall          0.2.0      Specifications for callback functions passed i...\n",
      "brotli            1.0.9      Python bindings for the Brotli compression lib...\n",
      "certifi           2023.7.22  Python package for providing Mozilla's CA Bundle.\n",
      "colorama          0.4.6      Cross-platform colored terminal text.\n",
      "comm              0.1.4      Jupyter Python Comm implementation, for usage ...\n",
      "debugpy           1.6.7      An implementation of the Debug Adapter Protoco...\n",
      "decorator         5.1.1      Decorators for Humans\n",
      "executing         1.2.0      Get the currently executing AST node of a fram...\n",
      "ipykernel         6.25.1     IPython Kernel for Jupyter\n",
      "ipython           8.14.0     IPython: Productive Interactive Computing\n",
      "jedi              0.18.2     An autocompletion tool for Python that can be ...\n",
      "jupyter-client    8.3.0      Jupyter protocol implementation and client lib...\n",
      "jupyter-core      5.3.1      Jupyter core package. A base package on which ...\n",
      "matplotlib-inline 0.1.6      Inline Matplotlib backend for Jupyter\n",
      "mutagen           1.46.0     read and write audio tags for many formats\n",
      "nest-asyncio      1.5.7      Patch asyncio to allow nested event loops\n",
      "numpy             1.25.1     Fundamental package for array computing in Python\n",
      "packaging         23.1       Core utilities for Python packages\n",
      "parso             0.8.3      A Python Parser\n",
      "pickleshare       0.7.5      Tiny 'shelve'-like database with concurrency s...\n",
      "platformdirs      3.10.0     A small Python package for determining appropr...\n",
      "prompt-toolkit    3.0.39     Library for building powerful interactive comm...\n",
      "psutil            5.9.5      Cross-platform lib for process and system moni...\n",
      "pure-eval         0.2.2      Safely evaluate AST nodes without side effects\n",
      "pycryptodomex     3.18.0     Cryptographic library for Python\n",
      "pygments          2.15.1     Pygments is a syntax highlighting package writ...\n",
      "python-dateutil   2.8.2      Extensions to the standard Python datetime module\n",
      "pywin32           306        Python for Window Extensions\n",
      "pyzmq             25.1.0     Python bindings for 0MQ\n",
      "six               1.16.0     Python 2 and 3 compatibility utilities\n",
      "stack-data        0.6.2      Extract data from python stack frames and trac...\n",
      "tornado           6.3.2      Tornado is a Python web framework and asynchro...\n",
      "traitlets         5.9.0      Traitlets Python configuration system\n",
      "wcwidth           0.2.6      Measures the displayed width of unicode string...\n",
      "websockets        11.0.3     An implementation of the WebSocket Protocol (R...\n",
      "youtube-dl        2021.12.17 YouTube video downloader\n",
      "yt-dlp            2023.7.6   A youtube-dl fork with additional features and...\n"
     ]
    },
    {
     "ename": "",
     "evalue": "",
     "output_type": "error",
     "traceback": [
      "\u001b[1;31m現在のセルまたは前のセルでコードを実行中に、カーネルがクラッシュしました。エラーの原因を特定するには、セル内のコードを確認してください。詳細については、<a href='https://aka.ms/vscodeJupyterKernelCrash'>こちら</a> をクリックしてください。さらなる詳細については、Jupyter [log] (command:jupyter.viewOutput) を参照してください。"
     ]
    }
   ],
   "source": [
    "!poetry show"
   ]
  },
  {
   "cell_type": "code",
   "execution_count": 1,
   "metadata": {},
   "outputs": [
    {
     "name": "stdout",
     "output_type": "stream",
     "text": [
      "Using version ^2.1.3 for twitch-dl\n",
      "\n",
      "Updating dependencies\n",
      "Resolving dependencies...\n",
      "\n",
      "Package operations: 9 installs, 0 updates, 0 removals\n",
      "\n",
      "  • Installing idna (3.4)\n",
      "  • Installing sniffio (1.3.0)\n",
      "  • Installing anyio (3.7.1)\n",
      "  • Installing h11 (0.14.0)\n",
      "  • Installing httpcore (0.17.3)\n",
      "  • Installing iso8601 (2.0.0)\n",
      "  • Installing httpx (0.24.1)\n",
      "  • Installing m3u8 (3.5.0)\n",
      "  • Installing twitch-dl (2.1.3)\n",
      "\n",
      "Writing lock file\n"
     ]
    }
   ],
   "source": [
    "!poetry add twitch-dl"
   ]
  },
  {
   "cell_type": "code",
   "execution_count": 2,
   "metadata": {},
   "outputs": [
    {
     "ename": "TypeError",
     "evalue": "'module' object is not callable",
     "output_type": "error",
     "traceback": [
      "\u001b[1;31m---------------------------------------------------------------------------\u001b[0m",
      "\u001b[1;31mTypeError\u001b[0m                                 Traceback (most recent call last)",
      "Cell \u001b[1;32mIn[2], line 3\u001b[0m\n\u001b[0;32m      1\u001b[0m \u001b[39mimport\u001b[39;00m \u001b[39mtwitchdl\u001b[39;00m\n\u001b[1;32m----> 3\u001b[0m yt_opts\u001b[39m=\u001b[39mtwitchdl({\u001b[39m'\u001b[39;49m\u001b[39mformat\u001b[39;49m\u001b[39m'\u001b[39;49m: \u001b[39m'\u001b[39;49m\u001b[39mmp4\u001b[39;49m\u001b[39m'\u001b[39;49m})\n\u001b[0;32m      4\u001b[0m yt_opts\u001b[39m.\u001b[39mdownload(\u001b[39m'\u001b[39m\u001b[39mhttps://www.twitch.tv/videos/1897441632\u001b[39m\u001b[39m'\u001b[39m)\n",
      "\u001b[1;31mTypeError\u001b[0m: 'module' object is not callable"
     ]
    }
   ],
   "source": [
    "import twitchdl\n",
    "\n",
    "yt_opts=twitchdl({'format': 'mp4'})\n",
    "yt_opts.download('https://www.twitch.tv/videos/1897441632')"
   ]
  },
  {
   "cell_type": "code",
   "execution_count": 4,
   "metadata": {},
   "outputs": [
    {
     "name": "stdout",
     "output_type": "stream",
     "text": [
      "^C\n"
     ]
    }
   ],
   "source": [
    "!twitch-dl download https://www.twitch.tv/videos/1426185120"
   ]
  },
  {
   "cell_type": "code",
   "execution_count": 5,
   "metadata": {},
   "outputs": [
    {
     "name": "stdout",
     "output_type": "stream",
     "text": [
      "twitch-dl v2.1.3\n"
     ]
    }
   ],
   "source": [
    "!twitch-dl --version\n"
   ]
  },
  {
   "cell_type": "code",
   "execution_count": 6,
   "metadata": {},
   "outputs": [
    {
     "name": "stdout",
     "output_type": "stream",
     "text": [
      "\n",
      "\u001b[1mVideo 1888312317\u001b[0m\n",
      "\u001b[92mV Rising (Survival, First Time)\u001b[0m\n",
      "\u001b[94mBananasaurus_Rex\u001b[0m playing \u001b[94mV Rising\u001b[0m\n",
      "Published \u001b[94m2023-08-02 @ 17:36:40\u001b[0m  Length: \u001b[94m3 h 47 min\u001b[0m \n",
      "\u001b[3mhttps://www.twitch.tv/videos/1888312317\u001b[0m\n",
      "\n",
      "\u001b[1mVideo 1887494802\u001b[0m\n",
      "\u001b[92mV Rising (Survival, First Time)\u001b[0m\n",
      "\u001b[94mBananasaurus_Rex\u001b[0m playing \u001b[94mV Rising\u001b[0m\n",
      "Published \u001b[94m2023-08-01 @ 18:29:01\u001b[0m  Length: \u001b[94m5 h 14 min\u001b[0m \n",
      "\u001b[3mhttps://www.twitch.tv/videos/1887494802\u001b[0m\n",
      "\n",
      "\u001b[1mVideo 1886569130\u001b[0m\n",
      "\u001b[92mV Rising (Survival, First Time)\u001b[0m\n",
      "\u001b[94mBananasaurus_Rex\u001b[0m playing \u001b[94mV Rising\u001b[0m\n",
      "Published \u001b[94m2023-07-31 @ 16:57:44\u001b[0m  Length: \u001b[94m5 h 46 min\u001b[0m \n",
      "\u001b[3mhttps://www.twitch.tv/videos/1886569130\u001b[0m\n",
      "\n",
      "\u001b[1mVideo 1885886316\u001b[0m\n",
      "\u001b[92mV Rising (Survival, First Time)\u001b[0m\n",
      "\u001b[94mBananasaurus_Rex\u001b[0m playing \u001b[94mV Rising\u001b[0m\n",
      "Published \u001b[94m2023-07-30 @ 19:56:20\u001b[0m  Length: \u001b[94m5 h 4 min\u001b[0m \n",
      "\u001b[3mhttps://www.twitch.tv/videos/1885886316\u001b[0m\n",
      "\n",
      "\u001b[1mVideo 1877051827\u001b[0m\n",
      "\u001b[92mViewfinder - Perspective Puzzler\u001b[0m\n",
      "\u001b[94mBananasaurus_Rex\u001b[0m playing \u001b[94mViewfinder\u001b[0m\n",
      "Published \u001b[94m2023-07-20 @ 17:21:58\u001b[0m  Length: \u001b[94m4 h 54 min\u001b[0m \n",
      "\u001b[3mhttps://www.twitch.tv/videos/1877051827\u001b[0m\n",
      "\n",
      "\u001b[1mVideo 1876146562\u001b[0m\n",
      "\u001b[92mBoneraiser Minions (Good Horde Survival?)\u001b[0m\n",
      "\u001b[94mBananasaurus_Rex\u001b[0m playing \u001b[94mBoneraiser Minions\u001b[0m\n",
      "Published \u001b[94m2023-07-19 @ 17:00:49\u001b[0m  Length: \u001b[94m5 h 12 min\u001b[0m \n",
      "\u001b[3mhttps://www.twitch.tv/videos/1876146562\u001b[0m\n",
      "\n",
      "\u001b[1mVideo 1874392508\u001b[0m\n",
      "\u001b[92mSuper Monkey Ball - First Time!\u001b[0m\n",
      "\u001b[94mBananasaurus_Rex\u001b[0m playing \u001b[94mSuper Monkey Ball\u001b[0m\n",
      "Published \u001b[94m2023-07-17 @ 17:00:24\u001b[0m  Length: \u001b[94m4 h 22 min\u001b[0m \n",
      "\u001b[3mhttps://www.twitch.tv/videos/1874392508\u001b[0m\n",
      "\n",
      "\u001b[1mVideo 1873591583\u001b[0m\n",
      "\u001b[92mSuper Monkey Ball - First Time!\u001b[0m\n",
      "\u001b[94mBananasaurus_Rex\u001b[0m playing \u001b[94mSuper Monkey Ball\u001b[0m\n",
      "Published \u001b[94m2023-07-16 @ 17:48:42\u001b[0m  Length: \u001b[94m5 h 1 min\u001b[0m \n",
      "\u001b[3mhttps://www.twitch.tv/videos/1873591583\u001b[0m\n",
      "\n",
      "\u001b[1mVideo 1870955429\u001b[0m\n",
      "\u001b[92mSuper Monkey Ball - First Time!\u001b[0m\n",
      "\u001b[94mBananasaurus_Rex\u001b[0m playing \u001b[94mSuper Monkey Ball\u001b[0m\n",
      "Published \u001b[94m2023-07-13 @ 17:25:55\u001b[0m  Length: \u001b[94m5 h 20 min\u001b[0m \n",
      "\u001b[3mhttps://www.twitch.tv/videos/1870955429\u001b[0m\n",
      "\n",
      "\u001b[1mVideo 1870092525\u001b[0m\n",
      "\u001b[92mAfterimage [Metroidvania]\u001b[0m\n",
      "\u001b[94mBananasaurus_Rex\u001b[0m playing \u001b[94mAfterimage\u001b[0m\n",
      "Published \u001b[94m2023-07-12 @ 17:28:35\u001b[0m  Length: \u001b[94m5 h 17 min\u001b[0m \n",
      "\u001b[3mhttps://www.twitch.tv/videos/1870092525\u001b[0m\n",
      "\n",
      "--------------------------------------------------------------------------------\n",
      "\u001b[93mVideos 1-10 of 27\u001b[0m\n",
      "\n",
      "\u001b[2mThere are more videos. Increase the --limit, use --all or --pager to see the rest.\u001b[0m\n"
     ]
    }
   ],
   "source": [
    "!twitch-dl videos bananasaurus_rex"
   ]
  },
  {
   "cell_type": "code",
   "execution_count": 2,
   "metadata": {},
   "outputs": [
    {
     "name": "stdout",
     "output_type": "stream",
     "text": [
      "Active code page: 65001\n"
     ]
    },
    {
     "name": "stderr",
     "output_type": "stream",
     "text": [
      "INFO: Could not find files for the given pattern(s).\n"
     ]
    }
   ],
   "source": [
    "!chcp 65001\n",
    "!where ffmpeg"
   ]
  },
  {
   "cell_type": "markdown",
   "metadata": {},
   "source": [
    "\"C:\\Users\\toran\\AppData\\Local\\Temp\\WinGet\\Gyan.FFmpeg.6.0\\ffmpeg-6.0-full_build.zip\"\n",
    "\"C:\\Users\\toran\\AppData\\Local\\Microsoft\\WinGet\\Packages\\Gyan.FFmpeg_Microsoft.Winget.Source_8wekyb3d8bbwe\\ffmpeg-6.0-full_build\\bin\\ffmpeg.exe\""
   ]
  },
  {
   "cell_type": "code",
   "execution_count": 1,
   "metadata": {},
   "outputs": [
    {
     "name": "stdout",
     "output_type": "stream",
     "text": [
      "[youtube] Extracting URL: https://www.youtube.com/watch?v=jkLIRTN4Nm4\n",
      "[youtube] jkLIRTN4Nm4: Downloading webpage\n",
      "[youtube] jkLIRTN4Nm4: Downloading ios player API JSON\n",
      "[youtube] jkLIRTN4Nm4: Downloading android player API JSON\n",
      "[youtube] jkLIRTN4Nm4: Downloading player c153b631\n",
      "[youtube] jkLIRTN4Nm4: Downloading m3u8 information\n",
      "[info] jkLIRTN4Nm4: Downloading 1 format(s): 22\n",
      "[download] Destination: 【動画でわかる決算】島津製作所2024年3月期 第1四半期決算 [jkLIRTN4Nm4].mp4\n",
      "[download] 100% of    5.30MiB in 00:00:07 at 725.36KiB/s \n"
     ]
    },
    {
     "data": {
      "text/plain": [
       "0"
      ]
     },
     "execution_count": 1,
     "metadata": {},
     "output_type": "execute_result"
    }
   ],
   "source": [
    "from yt_dlp import YoutubeDL\n",
    "\n",
    "yt_opts=YoutubeDL({'format': 'mp4'})\n",
    "yt_opts.download('https://www.youtube.com/watch?v=jkLIRTN4Nm4')"
   ]
  }
 ],
 "metadata": {
  "kernelspec": {
   "display_name": "Python 3",
   "language": "python",
   "name": "python3"
  },
  "language_info": {
   "codemirror_mode": {
    "name": "ipython",
    "version": 3
   },
   "file_extension": ".py",
   "mimetype": "text/x-python",
   "name": "python",
   "nbconvert_exporter": "python",
   "pygments_lexer": "ipython3",
   "version": "3.11.4"
  },
  "orig_nbformat": 4
 },
 "nbformat": 4,
 "nbformat_minor": 2
}
