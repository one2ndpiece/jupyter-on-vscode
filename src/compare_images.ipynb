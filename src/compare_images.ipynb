{
 "cells": [
  {
   "cell_type": "code",
   "execution_count": 7,
   "metadata": {},
   "outputs": [
    {
     "name": "stderr",
     "output_type": "stream",
     "text": [
      "\n",
      "The command \"addopencv-python\" does not exist.\n"
     ]
    },
    {
     "name": "stdout",
     "output_type": "stream",
     "text": [
      "Using version ^4.8.1.78 for opencv-python\n",
      "\n",
      "Updating dependencies\n",
      "Resolving dependencies...\n",
      "\n",
      "Package operations: 5 installs, 33 updates, 0 removals\n",
      "\n",
      "  • Installing numpy (1.26.0)\n",
      "  • Updating click (8.1.6 -> 8.1.7)\n",
      "  • Updating contourpy (1.1.0 -> 1.1.1)\n",
      "  • Updating cycler (0.11.0 -> 0.12.0)\n",
      "  • Updating earthengine-api (0.1.373 -> 0.1.374)\n",
      "  • Updating fonttools (4.42.0 -> 4.43.0)\n",
      "  • Updating httpx (0.24.1 -> 0.25.0)\n",
      "  • Updating huggingface-hub (0.16.4 -> 0.17.3)\n",
      "  • Updating ipywidgets (8.1.0 -> 8.1.1)\n",
      "  • Updating iso8601 (2.0.0 -> 2.1.0)\n",
      "  • Updating kiwisolver (1.4.4 -> 1.4.5)\n",
      "  • Updating pandas (2.0.3 -> 2.1.1)\n",
      "  • Updating pydantic (2.1.1 -> 2.4.2)\n",
      "  • Installing pyzmq (25.1.1)\n",
      "  • Installing setuptools-scm (8.0.4)\n",
      "  • Installing tornado (6.3.3)\n",
      "  • Updating xyzservices (2023.7.0 -> 2023.10.0)\n",
      "  • Updating altair (5.0.1 -> 5.1.2)\n",
      "  • Updating brotli (1.0.9 -> 1.1.0)\n",
      "  • Updating debugpy (1.6.7 -> 1.8.0)\n",
      "  • Updating fastapi (0.101.1 -> 0.103.2)\n",
      "  • Updating gradio-client (0.4.0 -> 0.6.0)\n",
      "  • Updating imageio (2.31.1 -> 2.31.5)\n",
      "  • Updating imageio-ffmpeg (0.4.8 -> 0.4.9)\n",
      "  • Updating importlib-resources (6.0.1 -> 6.1.0)\n",
      "  • Updating jupyter-client (8.3.0 -> 8.3.1)\n",
      "  • Updating m3u8 (3.5.0 -> 3.6.0)\n",
      "  • Updating matplotlib (3.7.2 -> 3.8.0)\n",
      "  • Updating mutagen (1.46.0 -> 1.47.0)\n",
      "  • Updating nest-asyncio (1.5.7 -> 1.5.8)\n",
      "  • Updating orjson (3.9.4 -> 3.9.7)\n",
      "  • Updating pycryptodomex (3.18.0 -> 3.19.0)\n",
      "  • Updating tzlocal (5.0.1 -> 5.1)\n",
      "  • Updating xlsxwriter (3.1.5 -> 3.1.6)\n",
      "  • Updating gradio (3.40.1 -> 3.47.0)\n",
      "  • Updating ipykernel (6.25.1 -> 6.25.2)\n",
      "  • Installing opencv-contrib-python (4.8.1.78)\n",
      "  • Updating yt-dlp (2023.7.6 -> 2023.9.24)\n",
      "\n",
      "Writing lock file\n"
     ]
    }
   ],
   "source": [
    "!poetry add opencv-python\n"
   ]
  },
  {
   "cell_type": "code",
   "execution_count": 8,
   "metadata": {},
   "outputs": [
    {
     "name": "stdout",
     "output_type": "stream",
     "text": [
      "utf-8\n",
      "utf-8\n",
      "utf-8\n",
      "UTF-8\n",
      "cp932\n"
     ]
    }
   ],
   "source": [
    "import os\n",
    "import sys\n",
    "import locale\n",
    "print(os.environ.get(\"PYTHONIOENCODING\"))\n",
    "print(sys.getdefaultencoding())\n",
    "print(sys.getfilesystemencoding())\n",
    "print(sys.stdout.encoding)\n",
    "print(locale.getpreferredencoding())\n"
   ]
  },
  {
   "cell_type": "code",
   "execution_count": 9,
   "metadata": {},
   "outputs": [
    {
     "name": "stdout",
     "output_type": "stream",
     "text": [
      " �h���C�u C �̃{�����[�� ���x���� TIH0729500A �ł�\n",
      " �{�����[�� �V���A���ԍ��� 80C0-309B �ł�\n",
      "\n",
      " c:\\LocalRepo\\jupyter_on_VSCode\\src �̃f�B���N�g��\n",
      "\n",
      "2023/10/06  14:22    <DIR>          .\n",
      "2023/10/06  15:16    <DIR>          ..\n",
      "2023/10/06  14:49             6,360 compare_images.ipynb\n",
      "2023/10/05  10:16            17,315 download_youtube.ipynb\n",
      "2023/10/05  10:24             6,606 experinece_data_cleaning.ipynb\n",
      "2023/10/05  10:24            80,913 jupyter_on_vscode.ipynb\n",
      "2023/10/05  10:16           196,939 make_gif.ipynb\n",
      "2023/10/05  10:16            14,557 pdf_editor.ipynb\n",
      "2023/10/05  10:24           147,985 pngtopdf.ipynb\n",
      "2023/10/05  12:25               912 satellite.py\n",
      "2023/10/06  10:51           596,604 satellite_image.ipynb\n",
      "2023/10/05  15:50                 0 scrape_and_make_pdf.ipynb\n",
      "2023/10/05  10:16            53,609 video_edit.ipynb\n",
      "2023/10/05  10:24                 0 xltoRDS.ipynb\n",
      "2023/10/05  10:24                 0 __init__.py\n",
      "              13 �̃t�@�C��           1,121,800 �o�C�g\n",
      "               2 �̃f�B���N�g��  119,396,294,656 �o�C�g�̋󂫗̈�\n"
     ]
    }
   ],
   "source": [
    "!dir"
   ]
  },
  {
   "cell_type": "code",
   "execution_count": 10,
   "metadata": {},
   "outputs": [
    {
     "name": "stdout",
     "output_type": "stream",
     "text": [
      "affine                    2.4.0        Matrices describing affine transform...\n",
      "aiofiles                  23.2.1       File support for asyncio.\n",
      "altair                    5.1.2        Vega-Altair: A declarative statistic...\n",
      "annotated-types           0.5.0        Reusable constraint types to use wit...\n",
      "anyio                     3.7.1        High level compatibility layer for m...\n",
      "asttokens                 2.4.0        Annotate AST trees with source code ...\n",
      "attrs                     23.1.0       Classes Without Boilerplate\n",
      "backcall                  0.2.0        Specifications for callback function...\n",
      "beautifulsoup4            4.12.2       Screen-scraping library\n",
      "bqplot                    0.12.40      Interactive plotting for the Jupyter...\n",
      "branca                    0.6.0        Generate complex HTML+JS pages with ...\n",
      "brotli                    1.1.0        Python bindings for the Brotli compr...\n",
      "bs4                       0.0.1        Dummy package for Beautiful Soup\n",
      "cached-property           1.5.2        A decorator for caching properties i...\n",
      "cachetools                5.3.1        Extensible memoizing collections and...\n",
      "certifi                   2023.7.22    Python package for providing Mozilla...\n",
      "charset-normalizer        3.3.0        The Real First Universal Charset Det...\n",
      "click                     8.1.7        Composable command line interface to...\n",
      "click-plugins             1.1.1        An extension module for click to ena...\n",
      "cligj                     0.7.2        Click params for commmand line inter...\n",
      "colorama                  0.4.6        Cross-platform colored terminal text.\n",
      "colour                    0.1.5        converts and manipulates various col...\n",
      "comm                      0.1.4        Jupyter Python Comm implementation, ...\n",
      "commonmark                0.9.1        Python parser for the CommonMark Mar...\n",
      "contourpy                 1.1.1        Python library for calculating conto...\n",
      "cycler                    0.12.0       Composable style cycles\n",
      "debugpy                   1.8.0        An implementation of the Debug Adapt...\n",
      "decorator                 4.4.2        Decorators for Humans\n",
      "dictdiffer                0.9.0        Dictdiffer is a library that helps y...\n",
      "earthengine-api           0.1.374      Earth Engine Python API\n",
      "eerepr                    0.0.4        Code Editor-style reprs for Earth En...\n",
      "executing                 2.0.0        Get the currently executing AST node...\n",
      "fastapi                   0.103.2      FastAPI framework, high performance,...\n",
      "ffmpy                     0.3.1        A simple Python wrapper for ffmpeg\n",
      "filelock                  3.12.4       A platform independent file lock.\n",
      "folium                    0.14.0       Make beautiful maps with Leaflet.js ...\n",
      "fonttools                 4.43.0       Tools to manipulate font files\n",
      "fsspec                    2023.9.2     File-system specification\n",
      "future                    0.18.3       Clean single-source support for Pyth...\n",
      "geemap                    0.28.2       A Python package for interactive map...\n",
      "geocoder                  1.38.1       Geocoder is a simple and consistent ...\n",
      "google-api-core           2.12.0       Google API client core library\n",
      "google-api-python-client  2.102.0      Google API Client Library for Python\n",
      "google-auth               2.23.2       Google Authentication Library\n",
      "google-auth-httplib2      0.1.1        Google Authentication Library: httpl...\n",
      "google-cloud-core         2.3.3        Google Cloud API client core library\n",
      "google-cloud-storage      2.11.0       Google Cloud Storage API client library\n",
      "google-crc32c             1.5.0        A python wrapper of the C library 'G...\n",
      "google-resumable-media    2.6.0        Utilities for Google Media Downloads...\n",
      "googleapis-common-protos  1.60.0       Common protobufs used in Google APIs\n",
      "gradio                    3.47.0       Python library for easily interactin...\n",
      "gradio-client             0.6.0        Python library for easily interactin...\n",
      "h11                       0.14.0       A pure-Python, bring-your-own-I/O im...\n",
      "httpcore                  0.18.0       A minimal low-level HTTP client.\n",
      "httplib2                  0.22.0       A comprehensive HTTP client library.\n",
      "httpx                     0.25.0       The next generation HTTP client.\n",
      "huggingface-hub           0.17.3       Client library to download and publi...\n",
      "hupper                    1.12         Integrated process monitor for devel...\n",
      "idna                      3.4          Internationalized Domain Names in Ap...\n",
      "imageio                   2.31.5       Library for reading and writing a wi...\n",
      "imageio-ffmpeg            0.4.9        FFMPEG wrapper for Python\n",
      "importlib-resources       6.1.0        Read resources from Python packages\n",
      "ipyevents                 2.0.2        A custom widget for returning mouse ...\n",
      "ipyfilechooser            0.6.0        Python file chooser widget for use i...\n",
      "ipykernel                 6.25.2       IPython Kernel for Jupyter\n",
      "ipyleaflet                0.17.4       A Jupyter widget for dynamic Leaflet...\n",
      "ipython                   8.16.1       IPython: Productive Interactive Comp...\n",
      "ipytree                   0.2.2        A Tree Widget using jsTree\n",
      "ipywidgets                8.1.1        Jupyter interactive widgets\n",
      "iso8601                   2.1.0        Simple module to parse ISO 8601 dates\n",
      "jedi                      0.19.1       An autocompletion tool for Python th...\n",
      "jinja2                    3.1.2        A very fast and expressive template ...\n",
      "jsonschema                4.19.1       An implementation of JSON Schema val...\n",
      "jsonschema-specifications 2023.7.1     The JSON Schema meta-schemas and voc...\n",
      "jupyter-client            8.3.1        Jupyter protocol implementation and ...\n",
      "jupyter-core              5.3.2        Jupyter core package. A base package...\n",
      "jupyterlab-widgets        3.0.9        Jupyter interactive widgets for Jupy...\n",
      "kiwisolver                1.4.5        A fast implementation of the Cassowa...\n",
      "lxml                      4.9.3        Powerful and Pythonic XML processing...\n",
      "m3u8                      3.6.0        Python m3u8 parser\n",
      "markupsafe                2.1.3        Safely add untrusted strings to HTML...\n",
      "matplotlib                3.8.0        Python plotting package\n",
      "matplotlib-inline         0.1.6        Inline Matplotlib backend for Jupyter\n",
      "moviepy                   1.0.3        Video editing with Python\n",
      "mutagen                   1.47.0       read and write audio tags for many f...\n",
      "nest-asyncio              1.5.8        Patch asyncio to allow nested event ...\n",
      "notion                    0.0.28       Unofficial Python API client for Not...\n",
      "numpy                     1.26.0       Fundamental package for array comput...\n",
      "opencv-contrib-python     4.8.1.78     Wrapper package for OpenCV python bi...\n",
      "opencv-python             4.8.1.78     Wrapper package for OpenCV python bi...\n",
      "orjson                    3.9.7        Fast, correct Python JSON library su...\n",
      "packaging                 23.2         Core utilities for Python packages\n",
      "pandas                    2.1.1        Powerful data structures for data an...\n",
      "parso                     0.8.3        A Python Parser\n",
      "pastedeploy               3.0.1        Load, configure, and compose WSGI ap...\n",
      "pdf2image                 1.16.3       A wrapper around the pdftoppm and pd...\n",
      "pickleshare               0.7.5        Tiny 'shelve'-like database with con...\n",
      "pillow                    9.5.0        Python Imaging Library (Fork)\n",
      "plaster                   1.1.2        A loader interface around multiple c...\n",
      "plaster-pastedeploy       1.0.1        A loader implementing the PasteDeplo...\n",
      "platformdirs              3.11.0       A small Python package for determini...\n",
      "player                    0.6.1        Pyramid view layers\n",
      "plotly                    5.17.0       An open-source, interactive data vis...\n",
      "plyer                     2.1.0        Platform-independent wrapper for pla...\n",
      "proglog                   0.1.10       Log and progress bar manager for con...\n",
      "prompt-toolkit            3.0.39       Library for building powerful intera...\n",
      "protobuf                  4.24.4       \n",
      "psutil                    5.9.5        Cross-platform lib for process and s...\n",
      "pure-eval                 0.2.2        Safely evaluate AST nodes without si...\n",
      "pyasn1                    0.5.0        Pure-Python implementation of ASN.1 ...\n",
      "pyasn1-modules            0.3.0        A collection of ASN.1-based protocol...\n",
      "pycryptodomex             3.19.0       Cryptographic library for Python\n",
      "pydantic                  2.4.2        Data validation using Python type hints\n",
      "pydantic-core             2.10.1       \n",
      "pydub                     0.25.1       Manipulate audio with an simple and ...\n",
      "pygments                  2.16.1       Pygments is a syntax highlighting pa...\n",
      "pyparsing                 3.1.1        pyparsing module - Classes and metho...\n",
      "pypdf2                    3.0.1        A pure-python PDF library capable of...\n",
      "pyperclip                 1.8.2        A cross-platform clipboard module fo...\n",
      "pyramid                   2.0.2        The Pyramid Web Framework, a Pylons ...\n",
      "pyramid-jinja2            2.10         Jinja2 template bindings for the Pyr...\n",
      "pyshp                     2.3.1        Pure Python read/write support for E...\n",
      "python-box                7.1.1        Advanced Python dictionaries with do...\n",
      "python-dateutil           2.8.2        Extensions to the standard Python da...\n",
      "python-multipart          0.0.6        A streaming multipart parser for Python\n",
      "python-pptx               0.6.22       Generate and manipulate Open XML Pow...\n",
      "python-slugify            8.0.1        A Python slugify application that al...\n",
      "pytz                      2023.3.post1 World timezone definitions, modern a...\n",
      "pywin32                   306          Python for Window Extensions\n",
      "pyyaml                    6.0.1        YAML parser and emitter for Python\n",
      "pyzmq                     25.1.1       Python bindings for 0MQ\n",
      "rasterio                  1.3.8        Fast and direct raster I/O for use w...\n",
      "ratelim                   0.1.6        Makes it easy to respect rate limits.\n",
      "referencing               0.30.2       JSON Referencing + Python\n",
      "reportlab                 4.0.5        The Reportlab Toolkit\n",
      "requests                  2.31.0       Python HTTP for Humans.\n",
      "rpds-py                   0.10.4       Python bindings to Rust's persistent...\n",
      "rsa                       4.9          Pure-Python RSA implementation\n",
      "scooby                    0.7.4        A Great Dane turned Python environme...\n",
      "semantic-version          2.10.0       A library implementing the 'SemVer' ...\n",
      "setuptools                68.2.2       Easily download, build, install, upg...\n",
      "setuptools-scm            8.0.4        the blessed package to manage your v...\n",
      "six                       1.16.0       Python 2 and 3 compatibility utilities\n",
      "sniffio                   1.3.0        Sniff out which async library your c...\n",
      "snuggs                    1.4.7        Snuggs are s-expressions for Numpy\n",
      "soupsieve                 2.5          A modern CSS selector implementation...\n",
      "stack-data                0.6.3        Extract data from python stack frame...\n",
      "starlette                 0.27.0       The little ASGI library that shines.\n",
      "tenacity                  8.2.3        Retry code until it succeeds\n",
      "text-unidecode            1.3          The most basic Text::Unidecode port\n",
      "toolz                     0.12.0       List processing tools and functional...\n",
      "tornado                   6.3.3        Tornado is a Python web framework an...\n",
      "tqdm                      4.66.1       Fast, Extensible Progress Meter\n",
      "traitlets                 5.11.2       Traitlets Python configuration system\n",
      "traittypes                0.2.1        Scipy trait types\n",
      "translationstring         1.4          Utility library for i18n relied on b...\n",
      "twitch-dl                 2.1.3        Twitch downloader\n",
      "typing-extensions         4.8.0        Backported and Experimental Type Hin...\n",
      "tzdata                    2023.3       Provider of IANA time zone data\n",
      "tzlocal                   5.1          tzinfo object for the local timezone\n",
      "uritemplate               4.1.1        Implementation of RFC 6570 URI Templ...\n",
      "urllib3                   2.0.6        HTTP library with thread-safe connec...\n",
      "uvicorn                   0.23.2       The lightning-fast ASGI server.\n",
      "venusian                  3.0.0        A library for deferring decorator ac...\n",
      "wcwidth                   0.2.8        Measures the displayed width of unic...\n",
      "webob                     1.8.7        WSGI request and response object\n",
      "websockets                11.0.3       An implementation of the WebSocket P...\n",
      "widgetsnbextension        4.0.9        Jupyter interactive widgets for Jupy...\n",
      "xlsxwriter                3.1.6        A Python module for creating Excel X...\n",
      "xyzservices               2023.10.0    Source of XYZ tiles providers\n",
      "youtube-dl                2021.12.17   YouTube video downloader\n",
      "yt-dlp                    2023.9.24    A youtube-dl fork with additional fe...\n",
      "zope-deprecation          5.0          Zope Deprecation Infrastructure\n",
      "zope-interface            6.1          Interfaces for Python\n"
     ]
    }
   ],
   "source": [
    "!poetry show"
   ]
  },
  {
   "cell_type": "code",
   "execution_count": 4,
   "metadata": {},
   "outputs": [
    {
     "name": "stdout",
     "output_type": "stream",
     "text": [
      "Using version ^1.0.0 for jupyter\n",
      "\n",
      "Updating dependencies\n",
      "Resolving dependencies...\n",
      "\n",
      "Package operations: 50 installs, 37 updates, 0 removals\n",
      "\n",
      "  • Installing types-python-dateutil (2.8.19.14)\n",
      "  • Installing arrow (1.3.0)\n",
      "  • Installing fastjsonschema (2.18.1)\n",
      "  • Updating jsonschema (4.19.0 -> 4.19.1)\n",
      "  • Updating jupyter-core (5.3.1 -> 5.3.2)\n",
      "  • Installing pycparser (2.21)\n",
      "  • Updating pyzmq (25.1.0 -> 25.1.1)\n",
      "  • Updating tornado (6.3.2 -> 6.3.3)\n",
      "\n",
      "  UnicodeDecodeError\n",
      "\n",
      "  'cp932' codec can't decode byte 0x82 in position 3567: illegal multibyte sequence\n",
      "\n",
      "  at ~\\.pyenv\\pyenv-win\\versions\\3.11.4\\Lib\\subprocess.py:1196 in communicate\n",
      "      1192│             stderr = None\n",
      "      1193│             if self.stdin:\n",
      "      1194│                 self._stdin_write(input)\n",
      "      1195│             elif self.stdout:\n",
      "    → 1196│                 stdout = self.stdout.read()\n",
      "      1197│                 self.stdout.close()\n",
      "      1198│             elif self.stderr:\n",
      "      1199│                 stderr = self.stderr.read()\n",
      "      1200│                 self.stderr.close()\n",
      "\n",
      "\n",
      "  UnicodeDecodeError\n",
      "\n",
      "  'cp932' codec can't decode byte 0x82 in position 3570: illegal multibyte sequence\n",
      "\n",
      "  at ~\\.pyenv\\pyenv-win\\versions\\3.11.4\\Lib\\subprocess.py:1196 in communicate\n",
      "      1192│             stderr = None\n",
      "      1193│             if self.stdin:\n",
      "      1194│                 self._stdin_write(input)\n",
      "      1195│             elif self.stdout:\n",
      "    → 1196│                 stdout = self.stdout.read()\n",
      "      1197│                 self.stdout.close()\n",
      "      1198│             elif self.stderr:\n",
      "      1199│                 stderr = self.stderr.read()\n",
      "      1200│                 self.stderr.close()\n",
      "\n"
     ]
    },
    {
     "name": "stderr",
     "output_type": "stream",
     "text": [
      "The --dev option is deprecated, use the `--group dev` notation instead.\n"
     ]
    }
   ],
   "source": [
    "!poetry add -D jupyter\n"
   ]
  },
  {
   "cell_type": "code",
   "execution_count": 11,
   "metadata": {},
   "outputs": [],
   "source": [
    "import numpy"
   ]
  },
  {
   "cell_type": "code",
   "execution_count": 2,
   "metadata": {},
   "outputs": [
    {
     "name": "stdout",
     "output_type": "stream",
     "text": [
      "The following packages are already present in the pyproject.toml and will be skipped:\n",
      "\n",
      "  • numpy\n",
      "\n",
      "If you want to update it to the latest compatible version, you can use `poetry update package`.\n",
      "If you prefer to upgrade it to the latest available version, you can use `poetry add package@latest`.\n",
      "\n",
      "Nothing to add.\n"
     ]
    }
   ],
   "source": [
    "!poetry add numpy"
   ]
  },
  {
   "cell_type": "code",
   "execution_count": 13,
   "metadata": {},
   "outputs": [
    {
     "ename": "error",
     "evalue": "OpenCV(4.8.1) D:\\a\\opencv-python\\opencv-python\\opencv\\modules\\core\\src\\alloc.cpp:73: error: (-4:Insufficient memory) Failed to allocate 4096000000 bytes in function 'cv::OutOfMemoryError'\n",
     "output_type": "error",
     "traceback": [
      "\u001b[1;31m---------------------------------------------------------------------------\u001b[0m",
      "\u001b[1;31merror\u001b[0m                                     Traceback (most recent call last)",
      "\u001b[1;32mc:\\LocalRepo\\jupyter_on_VSCode\\src\\compare_images.ipynb セル 8\u001b[0m line \u001b[0;36m1\n\u001b[0;32m      <a href='vscode-notebook-cell:/c%3A/LocalRepo/jupyter_on_VSCode/src/compare_images.ipynb#W0sZmlsZQ%3D%3D?line=8'>9</a>\u001b[0m sr\u001b[39m.\u001b[39msetModel(\u001b[39m'\u001b[39m\u001b[39medsr\u001b[39m\u001b[39m'\u001b[39m, \u001b[39m4\u001b[39m)  \u001b[39m# scale factor is 4\u001b[39;00m\n\u001b[0;32m     <a href='vscode-notebook-cell:/c%3A/LocalRepo/jupyter_on_VSCode/src/compare_images.ipynb#W0sZmlsZQ%3D%3D?line=10'>11</a>\u001b[0m \u001b[39m# スーパーリゾリューションを適用して画像の解像度を向上させる\u001b[39;00m\n\u001b[1;32m---> <a href='vscode-notebook-cell:/c%3A/LocalRepo/jupyter_on_VSCode/src/compare_images.ipynb#W0sZmlsZQ%3D%3D?line=11'>12</a>\u001b[0m high_res_image \u001b[39m=\u001b[39m sr\u001b[39m.\u001b[39;49mupsample(low_res_image)\n\u001b[0;32m     <a href='vscode-notebook-cell:/c%3A/LocalRepo/jupyter_on_VSCode/src/compare_images.ipynb#W0sZmlsZQ%3D%3D?line=13'>14</a>\u001b[0m \u001b[39m# 高解像度の画像を保存\u001b[39;00m\n\u001b[0;32m     <a href='vscode-notebook-cell:/c%3A/LocalRepo/jupyter_on_VSCode/src/compare_images.ipynb#W0sZmlsZQ%3D%3D?line=14'>15</a>\u001b[0m cv2\u001b[39m.\u001b[39mimwrite(\u001b[39m'\u001b[39m\u001b[39mhigh_res_image.tif\u001b[39m\u001b[39m'\u001b[39m, high_res_image)\n",
      "\u001b[1;31merror\u001b[0m: OpenCV(4.8.1) D:\\a\\opencv-python\\opencv-python\\opencv\\modules\\core\\src\\alloc.cpp:73: error: (-4:Insufficient memory) Failed to allocate 4096000000 bytes in function 'cv::OutOfMemoryError'\n"
     ]
    }
   ],
   "source": [
    "import cv2\n",
    "\n",
    "# TIFF画像をロード\n",
    "low_res_image = cv2.imread(r'C:\\LocalRepo\\jupyter_on_VSCode\\data\\6b716fb844aacec3e52cf3ce58147fda-fc7f0d08b419cb24b1da4f8bde99fdd2_getPixels.jfif', cv2.IMREAD_UNCHANGED)\n",
    "\n",
    "# OpenCVのスーパーリゾリューションモデルをロード\n",
    "sr = cv2.dnn_superres.DnnSuperResImpl_create()\n",
    "sr.readModel('C:\\LocalRepo\\jupyter_on_VSCode\\data\\EDSR_x4.pb')\n",
    "sr.setModel('edsr', 4)  # scale factor is 4\n",
    "\n",
    "# スーパーリゾリューションを適用して画像の解像度を向上させる\n",
    "high_res_image = sr.upsample(low_res_image)\n",
    "\n",
    "# 高解像度の画像を保存\n",
    "cv2.imwrite('high_res_image.tif', high_res_image)\n"
   ]
  },
  {
   "cell_type": "code",
   "execution_count": 15,
   "metadata": {},
   "outputs": [
    {
     "ename": "error",
     "evalue": "OpenCV(4.8.1) D:\\a\\opencv-python\\opencv-python\\opencv\\modules\\core\\src\\alloc.cpp:73: error: (-4:Insufficient memory) Failed to allocate 4096000000 bytes in function 'cv::OutOfMemoryError'\n",
     "output_type": "error",
     "traceback": [
      "\u001b[1;31m---------------------------------------------------------------------------\u001b[0m",
      "\u001b[1;31merror\u001b[0m                                     Traceback (most recent call last)",
      "\u001b[1;32mc:\\LocalRepo\\jupyter_on_VSCode\\src\\compare_images.ipynb セル 9\u001b[0m line \u001b[0;36m1\n\u001b[0;32m     <a href='vscode-notebook-cell:/c%3A/LocalRepo/jupyter_on_VSCode/src/compare_images.ipynb#X15sZmlsZQ%3D%3D?line=13'>14</a>\u001b[0m sr\u001b[39m.\u001b[39msetModel(\u001b[39m'\u001b[39m\u001b[39medsr\u001b[39m\u001b[39m'\u001b[39m, \u001b[39m4\u001b[39m)\n\u001b[0;32m     <a href='vscode-notebook-cell:/c%3A/LocalRepo/jupyter_on_VSCode/src/compare_images.ipynb#X15sZmlsZQ%3D%3D?line=15'>16</a>\u001b[0m \u001b[39m# Apply super-resolution to enhance image resolution\u001b[39;00m\n\u001b[1;32m---> <a href='vscode-notebook-cell:/c%3A/LocalRepo/jupyter_on_VSCode/src/compare_images.ipynb#X15sZmlsZQ%3D%3D?line=16'>17</a>\u001b[0m high_res_image \u001b[39m=\u001b[39m sr\u001b[39m.\u001b[39;49mupsample(low_res_image)\n\u001b[0;32m     <a href='vscode-notebook-cell:/c%3A/LocalRepo/jupyter_on_VSCode/src/compare_images.ipynb#X15sZmlsZQ%3D%3D?line=18'>19</a>\u001b[0m \u001b[39m# Save the high-resolution image\u001b[39;00m\n\u001b[0;32m     <a href='vscode-notebook-cell:/c%3A/LocalRepo/jupyter_on_VSCode/src/compare_images.ipynb#X15sZmlsZQ%3D%3D?line=19'>20</a>\u001b[0m cv2\u001b[39m.\u001b[39mimwrite(\u001b[39m'\u001b[39m\u001b[39mhigh_res_image.tif\u001b[39m\u001b[39m'\u001b[39m, high_res_image)\n",
      "\u001b[1;31merror\u001b[0m: OpenCV(4.8.1) D:\\a\\opencv-python\\opencv-python\\opencv\\modules\\core\\src\\alloc.cpp:73: error: (-4:Insufficient memory) Failed to allocate 4096000000 bytes in function 'cv::OutOfMemoryError'\n"
     ]
    }
   ],
   "source": [
    "import cv2\n",
    "\n",
    "# Load the low-resolution image (replace with your actual file path)\n",
    "low_res_image = cv2.imread(r'C:\\LocalRepo\\jupyter_on_VSCode\\data\\6b716fb844aacec3e52cf3ce58147fda-fc7f0d08b419cb24b1da4f8bde99fdd2_getPixels.jfif', cv2.IMREAD_UNCHANGED)\n",
    "\n",
    "# Initialize the super-resolution model\n",
    "sr = cv2.dnn_superres.DnnSuperResImpl_create()\n",
    "\n",
    "# Read the EDSR_x4.pb model (replace with the correct absolute path)\n",
    "model_path = r'C:\\LocalRepo\\jupyter_on_VSCode\\data\\EDSR_x4.pb'\n",
    "sr.readModel(model_path)\n",
    "\n",
    "# Set the model type and scale factor (4x in this case)\n",
    "sr.setModel('edsr', 4)\n",
    "\n",
    "# Apply super-resolution to enhance image resolution\n",
    "high_res_image = sr.upsample(low_res_image)\n",
    "\n",
    "# Save the high-resolution image\n",
    "cv2.imwrite('high_res_image.tif', high_res_image)\n"
   ]
  },
  {
   "cell_type": "code",
   "execution_count": 1,
   "metadata": {},
   "outputs": [
    {
     "name": "stdout",
     "output_type": "stream",
     "text": [
      " name         : numpy                                             \n",
      " version      : 1.26.0                                            \n",
      " description  : Fundamental package for array computing in Python \n",
      "\n",
      "required by\n",
      " - altair *\n",
      " - bqplot >=1.10.4\n",
      " - contourpy >=1.26.0rc1,<2.0\n",
      " - folium *\n",
      " - geemap *\n",
      " - gradio >=1.0,<2.0\n",
      " - imageio *\n",
      " - matplotlib >=1.21,<2\n",
      " - moviepy >=1.17.3\n",
      " - opencv-contrib-python >=1.23.5\n",
      " - pandas >=1.26.0\n",
      " - rasterio >=1.18\n",
      " - snuggs *\n"
     ]
    }
   ],
   "source": [
    "!poetry show numpy"
   ]
  },
  {
   "cell_type": "code",
   "execution_count": 4,
   "metadata": {},
   "outputs": [
    {
     "name": "stdout",
     "output_type": "stream",
     "text": [
      "Virtual environment already activated: C:\\Users\\SOTHINK\\AppData\\Local\\pypoetry\\Cache\\virtualenvs\\jupyter-on-vscode-hB3JH4zr-py3.11\n"
     ]
    }
   ],
   "source": [
    "!poetry shell"
   ]
  },
  {
   "cell_type": "code",
   "execution_count": 6,
   "metadata": {},
   "outputs": [
    {
     "name": "stdout",
     "output_type": "stream",
     "text": [
      "c:\\Users\\SOTHINK\\AppData\\Local\\pypoetry\\Cache\\virtualenvs\\jupyter-on-vscode-hB3JH4zr-py3.11\\Scripts\\python.exe\n"
     ]
    }
   ],
   "source": [
    "import sys\n",
    "print(sys.executable)\n"
   ]
  }
 ],
 "metadata": {
  "kernelspec": {
   "display_name": "jupyter-on-vscode-hB3JH4zr-py3.11",
   "language": "python",
   "name": "python3"
  },
  "language_info": {
   "codemirror_mode": {
    "name": "ipython",
    "version": 3
   },
   "file_extension": ".py",
   "mimetype": "text/x-python",
   "name": "python",
   "nbconvert_exporter": "python",
   "pygments_lexer": "ipython3",
   "version": "3.11.4"
  },
  "orig_nbformat": 4
 },
 "nbformat": 4,
 "nbformat_minor": 2
}
