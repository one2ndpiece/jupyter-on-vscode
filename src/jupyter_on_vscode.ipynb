{
 "cells": [
  {
   "cell_type": "code",
   "execution_count": 2,
   "metadata": {},
   "outputs": [
    {
     "name": "stdout",
     "output_type": "stream",
     "text": [
      "jupyter-on-vscode 0.1.0\n"
     ]
    }
   ],
   "source": [
    "!poetry version"
   ]
  },
  {
   "cell_type": "code",
   "execution_count": 3,
   "metadata": {},
   "outputs": [
    {
     "name": "stderr",
     "output_type": "stream",
     "text": [
      "'ls' �́A�����R�}���h�܂��͊O���R�}���h�A\n",
      "����\\�ȃv���O�����܂��̓o�b�` �t�@�C���Ƃ��ĔF������Ă��܂���B\n"
     ]
    }
   ],
   "source": [
    "!ls"
   ]
  },
  {
   "cell_type": "code",
   "execution_count": 4,
   "metadata": {},
   "outputs": [
    {
     "name": "stdout",
     "output_type": "stream",
     "text": [
      "1\n"
     ]
    }
   ],
   "source": [
    "x=1\n",
    "print(x)"
   ]
  },
  {
   "cell_type": "code",
   "execution_count": 6,
   "metadata": {},
   "outputs": [
    {
     "name": "stdout",
     "output_type": "stream",
     "text": [
      "Active code page: 65001\n",
      " Volume in drive C is TIH0729500A\n",
      " Volume Serial Number is 80C0-309B\n",
      "\n",
      " Directory of c:\\LocalRepo\\jupyter_on_VSCode\\jupyter_on_vscode\n",
      "\n",
      "2023/08/22  13:00    <DIR>          .\n",
      "2023/08/22  13:03    <DIR>          ..\n",
      "2023/08/22  13:00                 0 jupyter_on_vscode.ipynb\n",
      "2023/08/22  12:05                 0 __init__.py\n",
      "               2 File(s)              0 bytes\n",
      "               2 Dir(s)  184,810,774,528 bytes free\n"
     ]
    }
   ],
   "source": [
    "!chcp 65001\n",
    "!dir"
   ]
  },
  {
   "cell_type": "code",
   "execution_count": 1,
   "metadata": {},
   "outputs": [
    {
     "name": "stdout",
     "output_type": "stream",
     "text": [
      "Using version ^3.7.2 for matplotlib\n",
      "\n",
      "Updating dependencies\n",
      "Resolving dependencies...\n",
      "\n",
      "Package operations: 8 installs, 0 updates, 0 removals\n",
      "\n",
      "  • Installing numpy (1.25.2)\n",
      "  • Installing contourpy (1.1.0)\n",
      "  • Installing cycler (0.11.0)\n",
      "  • Installing fonttools (4.42.1)\n",
      "  • Installing kiwisolver (1.4.4)\n",
      "  • Installing pillow (10.0.0)\n",
      "  • Installing pyparsing (3.0.9)\n",
      "  • Installing matplotlib (3.7.2)\n",
      "\n",
      "Writing lock file\n"
     ]
    }
   ],
   "source": [
    "!poetry add matplotlib"
   ]
  },
  {
   "cell_type": "code",
   "execution_count": 2,
   "metadata": {},
   "outputs": [
    {
     "name": "stdout",
     "output_type": "stream",
     "text": [
      "Using version ^0.3.0 for plantuml\n",
      "\n",
      "Updating dependencies\n",
      "Resolving dependencies...\n",
      "\n",
      "Package operations: 2 installs, 0 updates, 0 removals\n",
      "\n",
      "  • Installing httplib2 (0.22.0)\n",
      "  • Installing plantuml (0.3.0)\n",
      "\n",
      "Writing lock file\n"
     ]
    }
   ],
   "source": [
    "!poetry add plantuml"
   ]
  },
  {
   "cell_type": "code",
   "execution_count": 3,
   "metadata": {},
   "outputs": [
    {
     "name": "stdout",
     "output_type": "stream",
     "text": [
      "Using version ^0.20.1 for graphviz\n",
      "\n",
      "Updating dependencies\n",
      "Resolving dependencies...\n",
      "\n",
      "Package operations: 1 install, 0 updates, 0 removals\n",
      "\n",
      "  • Installing graphviz (0.20.1)\n",
      "\n",
      "Writing lock file\n"
     ]
    }
   ],
   "source": [
    "!poetry add graphviz"
   ]
  },
  {
   "cell_type": "code",
   "execution_count": 4,
   "metadata": {},
   "outputs": [
    {
     "ename": "NameError",
     "evalue": "name 'nx' is not defined",
     "output_type": "error",
     "traceback": [
      "\u001b[1;31m---------------------------------------------------------------------------\u001b[0m",
      "\u001b[1;31mNameError\u001b[0m                                 Traceback (most recent call last)",
      "Cell \u001b[1;32mIn[4], line 2\u001b[0m\n\u001b[0;32m      1\u001b[0m \u001b[39m# グラフの再作成\u001b[39;00m\n\u001b[1;32m----> 2\u001b[0m G_flowchart \u001b[39m=\u001b[39m nx\u001b[39m.\u001b[39mDiGraph()\n\u001b[0;32m      4\u001b[0m \u001b[39m# ノードの追加\u001b[39;00m\n\u001b[0;32m      5\u001b[0m G_flowchart\u001b[39m.\u001b[39madd_nodes_from(nodes)\n",
      "\u001b[1;31mNameError\u001b[0m: name 'nx' is not defined"
     ]
    }
   ],
   "source": [
    "# グラフの再作成\n",
    "G_flowchart = nx.DiGraph()\n",
    "\n",
    "# ノードの追加\n",
    "G_flowchart.add_nodes_from(nodes)\n",
    "\n",
    "# エッジ（矢印）の追加\n",
    "G_flowchart.add_edges_from(edges)\n",
    "\n",
    "# 描画の設定（上から下へのフローチャート形式）\n",
    "pos_flowchart = {node: (0, -index) for index, node in enumerate(nodes)}\n",
    "nx.draw(G_flowchart, pos_flowchart, with_labels=True, node_size=2000, node_color=\"skyblue\", font_size=10, font_color=\"black\", font_weight=\"bold\", arrowsize=20)\n",
    "\n",
    "# 表示\n",
    "plt.show()\n"
   ]
  },
  {
   "cell_type": "code",
   "execution_count": 5,
   "metadata": {},
   "outputs": [
    {
     "ename": "ModuleNotFoundError",
     "evalue": "No module named 'networkx'",
     "output_type": "error",
     "traceback": [
      "\u001b[1;31m---------------------------------------------------------------------------\u001b[0m",
      "\u001b[1;31mModuleNotFoundError\u001b[0m                       Traceback (most recent call last)",
      "Cell \u001b[1;32mIn[5], line 1\u001b[0m\n\u001b[1;32m----> 1\u001b[0m \u001b[39mimport\u001b[39;00m \u001b[39mnetworkx\u001b[39;00m \u001b[39mas\u001b[39;00m \u001b[39mnx\u001b[39;00m\n\u001b[0;32m      3\u001b[0m \u001b[39m# グラフの作成\u001b[39;00m\n\u001b[0;32m      4\u001b[0m G \u001b[39m=\u001b[39m nx\u001b[39m.\u001b[39mDiGraph()\n",
      "\u001b[1;31mModuleNotFoundError\u001b[0m: No module named 'networkx'"
     ]
    }
   ],
   "source": [
    "import networkx as nx\n",
    "\n",
    "# グラフの作成\n",
    "G = nx.DiGraph()\n",
    "\n",
    "# ノードの追加\n",
    "nodes = [\"User Input\", \"Google Spreadsheet\", \"Google Apps Script\", \"JDBC Connection\", \"AWS RDS (MySQL)\"]\n",
    "G.add_nodes_from(nodes)\n",
    "\n",
    "# エッジ（矢印）の追加\n",
    "edges = [(nodes[i], nodes[i+1]) for i in range(len(nodes)-1)]\n",
    "G.add_edges_from(edges)\n",
    "\n",
    "# 描画の設定\n",
    "pos = nx.spring_layout(G)\n",
    "nx.draw(G, pos, with_labels=True, node_size=2000, node_color=\"skyblue\", font_size=10, font_color=\"black\", font_weight=\"bold\", arrowsize=20)\n",
    "\n",
    "# 表示\n",
    "plt.show()\n"
   ]
  },
  {
   "cell_type": "code",
   "execution_count": 6,
   "metadata": {},
   "outputs": [
    {
     "name": "stdout",
     "output_type": "stream",
     "text": [
      "Using version ^3.1 for networkx\n",
      "\n",
      "Updating dependencies\n",
      "Resolving dependencies...\n",
      "\n",
      "Package operations: 1 install, 0 updates, 0 removals\n",
      "\n",
      "  • Installing networkx (3.1)\n",
      "\n",
      "Writing lock file\n"
     ]
    }
   ],
   "source": [
    "! poetry add networkx"
   ]
  },
  {
   "cell_type": "code",
   "execution_count": 8,
   "metadata": {},
   "outputs": [
    {
     "data": {
      "image/png": "[encoded data removed]",
      "text/plain": [
       "<Figure size 640x480 with 1 Axes>"
      ]
     },
     "metadata": {},
     "output_type": "display_data"
    }
   ],
   "source": [
    "import matplotlib.pyplot as plt\n",
    "import networkx as nx\n",
    "\n",
    "# グラフの作成\n",
    "G = nx.DiGraph()\n",
    "\n",
    "# ノードの追加\n",
    "nodes = [\"User Input\", \"Google Spreadsheet\", \"Google Apps Script\", \"JDBC Connection\", \"AWS RDS (MySQL)\"]\n",
    "G.add_nodes_from(nodes)\n",
    "\n",
    "# エッジ（矢印）の追加\n",
    "edges = [(nodes[i], nodes[i+1]) for i in range(len(nodes)-1)]\n",
    "G.add_edges_from(edges)\n",
    "\n",
    "# 描画の設定\n",
    "pos = nx.spring_layout(G)\n",
    "nx.draw(G, pos, with_labels=True, node_size=2000, node_color=\"skyblue\", font_size=10, font_color=\"black\", font_weight=\"bold\", arrowsize=20)\n",
    "\n",
    "# 表示\n",
    "plt.show()\n"
   ]
  },
  {
   "cell_type": "code",
   "execution_count": 9,
   "metadata": {},
   "outputs": [
    {
     "data": {
      "image/png": "[encoded data removed]",
      "text/plain": [
       "<Figure size 640x480 with 1 Axes>"
      ]
     },
     "metadata": {},
     "output_type": "display_data"
    }
   ],
   "source": [
    "# グラフの再作成\n",
    "G_flowchart = nx.DiGraph()\n",
    "\n",
    "# ノードの追加\n",
    "G_flowchart.add_nodes_from(nodes)\n",
    "\n",
    "# エッジ（矢印）の追加\n",
    "G_flowchart.add_edges_from(edges)\n",
    "\n",
    "# 描画の設定（上から下へのフローチャート形式）\n",
    "pos_flowchart = {node: (0, -index) for index, node in enumerate(nodes)}\n",
    "nx.draw(G_flowchart, pos_flowchart, with_labels=True, node_size=2000, node_color=\"skyblue\", font_size=10, font_color=\"black\", font_weight=\"bold\", arrowsize=20)\n",
    "\n",
    "# 表示\n",
    "plt.show()\n"
   ]
  },
  {
   "cell_type": "code",
   "execution_count": 10,
   "metadata": {},
   "outputs": [
    {
     "name": "stdout",
     "output_type": "stream",
     "text": [
      "Using version ^10.0.0 for pillow\n",
      "\n",
      "Updating dependencies\n",
      "Resolving dependencies...\n",
      "\n",
      "No dependencies to install or update\n",
      "\n",
      "Writing lock file\n"
     ]
    }
   ],
   "source": [
    "!poetry add pillow"
   ]
  },
  {
   "cell_type": "code",
   "execution_count": 14,
   "metadata": {},
   "outputs": [],
   "source": [
    "from PIL import Image\n",
    "\n",
    "def convert_jfif_to_png(jfif_file, png_file):\n",
    "    # JFIFファイルを開く\n",
    "    img = Image.open(jfif_file)\n",
    "    \n",
    "    # PNG形式で保存する\n",
    "    img.save(png_file, 'PNG')\n",
    "\n",
    "# 使用例\n",
    "jfif_file = 'ダウンロード.jfif'  # JFIFファイルのパス\n",
    "png_file = 'output.png'  # 出力したいPNGファイルのパス\n",
    "convert_jfif_to_png(jfif_file, png_file)\n"
   ]
  },
  {
   "cell_type": "code",
   "execution_count": 2,
   "metadata": {},
   "outputs": [
    {
     "name": "stdout",
     "output_type": "stream",
     "text": [
      "Active code page: 65001\n",
      " Volume in drive C is TIH0729500A\n",
      " Volume Serial Number is 80C0-309B\n",
      "\n",
      " Directory of c:\\LocalRepo\\jupyter_on_VSCode\\jupyter_on_vscode\n",
      "\n",
      "2023/08/23  15:56    <DIR>          .\n",
      "2023/08/23  15:56    <DIR>          ..\n",
      "2023/08/22  13:00                 0 jupyter_on_vscode.ipynb\n",
      "2023/08/23  15:18            15,499 output.png\n",
      "2023/08/22  12:05                 0 __init__.py\n",
      "2023/08/23  15:13             2,375 ダウンロード.jfif\n",
      "               4 File(s)         17,874 bytes\n",
      "               2 Dir(s)  177,099,497,472 bytes free\n"
     ]
    }
   ],
   "source": [
    "!chcp 65001\n",
    "!dir"
   ]
  }
 ],
 "metadata": {
  "kernelspec": {
   "display_name": "jupyter-on-vscode-hB3JH4zr-py3.11",
   "language": "python",
   "name": "python3"
  },
  "language_info": {
   "codemirror_mode": {
    "name": "ipython",
    "version": 3
   },
   "file_extension": ".py",
   "mimetype": "text/x-python",
   "name": "python",
   "nbconvert_exporter": "python",
   "pygments_lexer": "ipython3",
   "version": "3.11.4"
  },
  "orig_nbformat": 4
 },
 "nbformat": 4,
 "nbformat_minor": 2
}
