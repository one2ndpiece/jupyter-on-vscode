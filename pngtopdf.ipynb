{
 "cells": [
  {
   "cell_type": "code",
   "execution_count": 1,
   "metadata": {},
   "outputs": [
    {
     "name": "stderr",
     "output_type": "stream",
     "text": [
      "Error: poetry.lock not found. Run `poetry lock` to create it.\n"
     ]
    }
   ],
   "source": [
    "!poetry show"
   ]
  },
  {
   "cell_type": "code",
   "execution_count": 2,
   "metadata": {},
   "outputs": [
    {
     "name": "stdout",
     "output_type": "stream",
     "text": [
      "Updating dependencies\n",
      "Resolving dependencies...\n",
      "\n",
      "Writing lock file\n"
     ]
    }
   ],
   "source": [
    "!poetry lock"
   ]
  },
  {
   "cell_type": "code",
   "execution_count": 3,
   "metadata": {},
   "outputs": [],
   "source": [
    "!poetry show"
   ]
  },
  {
   "cell_type": "code",
   "execution_count": 4,
   "metadata": {},
   "outputs": [
    {
     "name": "stdout",
     "output_type": "stream",
     "text": [
      "Using version ^10.0.1 for pillow\n",
      "Using version ^4.0.5 for reportlab\n",
      "\n",
      "Updating dependencies\n",
      "Resolving dependencies...\n",
      "\n",
      "Package operations: 1 install, 1 update, 0 removals\n",
      "\n",
      "  • Updating pillow (10.0.0 -> 10.0.1)\n",
      "  • Installing reportlab (4.0.5)\n",
      "\n",
      "Writing lock file\n"
     ]
    }
   ],
   "source": [
    "!poetry add Pillow reportlab"
   ]
  },
  {
   "cell_type": "code",
   "execution_count": 1,
   "metadata": {},
   "outputs": [
    {
     "ename": "AttributeError",
     "evalue": "module 'PIL.Image' has no attribute 'ANTIALIAS'",
     "output_type": "error",
     "traceback": [
      "\u001b[1;31m---------------------------------------------------------------------------\u001b[0m",
      "\u001b[1;31mAttributeError\u001b[0m                            Traceback (most recent call last)",
      "\u001b[1;32mc:\\LocalRepo\\jupyter_on_VSCode\\jupyter_on_vscode\\pngtopdf.ipynb セル 5\u001b[0m line \u001b[0;36m2\n\u001b[0;32m     <a href='vscode-notebook-cell:/c%3A/LocalRepo/jupyter_on_VSCode/jupyter_on_vscode/pngtopdf.ipynb#W4sZmlsZQ%3D%3D?line=21'>22</a>\u001b[0m     new_width \u001b[39m=\u001b[39m \u001b[39mint\u001b[39m(new_height \u001b[39m*\u001b[39m aspect_ratio)\n\u001b[0;32m     <a href='vscode-notebook-cell:/c%3A/LocalRepo/jupyter_on_VSCode/jupyter_on_vscode/pngtopdf.ipynb#W4sZmlsZQ%3D%3D?line=23'>24</a>\u001b[0m \u001b[39m# 画像をPDFに挿入\u001b[39;00m\n\u001b[1;32m---> <a href='vscode-notebook-cell:/c%3A/LocalRepo/jupyter_on_VSCode/jupyter_on_vscode/pngtopdf.ipynb#W4sZmlsZQ%3D%3D?line=24'>25</a>\u001b[0m image \u001b[39m=\u001b[39m image\u001b[39m.\u001b[39mresize((new_width, new_height), Image\u001b[39m.\u001b[39;49mANTIALIAS)\n\u001b[0;32m     <a href='vscode-notebook-cell:/c%3A/LocalRepo/jupyter_on_VSCode/jupyter_on_vscode/pngtopdf.ipynb#W4sZmlsZQ%3D%3D?line=25'>26</a>\u001b[0m image\u001b[39m.\u001b[39msave(\u001b[39m\"\u001b[39m\u001b[39mresized_image.png\u001b[39m\u001b[39m\"\u001b[39m)\n\u001b[0;32m     <a href='vscode-notebook-cell:/c%3A/LocalRepo/jupyter_on_VSCode/jupyter_on_vscode/pngtopdf.ipynb#W4sZmlsZQ%3D%3D?line=26'>27</a>\u001b[0m c\u001b[39m.\u001b[39mdrawImage(\u001b[39m\"\u001b[39m\u001b[39mresized_image.png\u001b[39m\u001b[39m\"\u001b[39m, \u001b[39m0\u001b[39m, height \u001b[39m-\u001b[39m new_height, width\u001b[39m=\u001b[39mnew_width, height\u001b[39m=\u001b[39mnew_height)\n",
      "\u001b[1;31mAttributeError\u001b[0m: module 'PIL.Image' has no attribute 'ANTIALIAS'"
     ]
    }
   ],
   "source": [
    "from PIL import Image\n",
    "from reportlab.pdfgen import canvas\n",
    "from reportlab.lib.pagesizes import A4\n",
    "from IPython.display import display\n",
    "\n",
    "# PNGファイルを読み込む\n",
    "image_path = \"sample.png\"\n",
    "image = Image.open(r\"C:\\LocalRepo\\jupyter_on_VSCode\\jupyter_on_vscode\\9月度勤怠表.png\")\n",
    "\n",
    "# A4サイズのPDFを作成\n",
    "pdf_path = \"output.pdf\"\n",
    "c = canvas.Canvas(pdf_path, pagesize=A4)\n",
    "width, height = A4\n",
    "\n",
    "# 画像をリサイズ（A4サイズに合わせる）\n",
    "aspect_ratio = image.width / image.height\n",
    "new_width = width\n",
    "new_height = int(new_width / aspect_ratio)\n",
    "\n",
    "if new_height > height:\n",
    "    new_height = height\n",
    "    new_width = int(new_height * aspect_ratio)\n",
    "\n",
    "# 画像をPDFに挿入\n",
    "image = image.resize((new_width, new_height), Image.ANTIALIAS)\n",
    "image.save(\"resized_image.png\")\n",
    "c.drawImage(\"resized_image.png\", 0, height - new_height, width=new_width, height=new_height)\n",
    "\n",
    "# PDFを保存\n",
    "c.save()\n",
    "\n",
    "# PDFのプレビューを表示（Jupyter Notebook用）\n",
    "pdf_preview = Image.open(\"9月勤怠表.pdf\")\n",
    "display(pdf_preview)\n"
   ]
  },
  {
   "cell_type": "code",
   "execution_count": 3,
   "metadata": {},
   "outputs": [
    {
     "name": "stderr",
     "output_type": "stream",
     "text": [
      "\n",
      "Could not find a matching version of package ANTIALIAS\n"
     ]
    }
   ],
   "source": [
    "!poetry add ANTIALIAS"
   ]
  },
  {
   "cell_type": "code",
   "execution_count": 4,
   "metadata": {},
   "outputs": [
    {
     "name": "stdout",
     "output_type": "stream",
     "text": [
      "  \n",
      "  from PIL import Image\n",
      "  from reportlab.pdfgen import canvas\n",
      "  from reportlab.lib.pagesizes import A4\n",
      "- from IPython.display import display\n",
      "+ from IPython.display import display, Image as IPImage\n",
      "?                                    ++++++++++++++++++\n",
      "\n",
      "  \n",
      "  # PNGファイルを読み込む\n",
      "  image_path = \"sample.png\"\n",
      "- image = Image.open(r\"C:\\LocalRepo\\jupyter_on_VSCode\\jupyter_on_vscode\\9月度勤怠表.png\")\n",
      "+ image = Image.open(image_path)\n",
      "  \n",
      "  # A4サイズのPDFを作成\n",
      "  pdf_path = \"output.pdf\"\n",
      "  c = canvas.Canvas(pdf_path, pagesize=A4)\n",
      "  width, height = A4\n",
      "  \n",
      "  # 画像をリサイズ（A4サイズに合わせる）\n",
      "  aspect_ratio = image.width / image.height\n",
      "  new_width = width\n",
      "  new_height = int(new_width / aspect_ratio)\n",
      "  \n",
      "  if new_height > height:\n",
      "      new_height = height\n",
      "      new_width = int(new_height * aspect_ratio)\n",
      "  \n",
      "  # 画像をPDFに挿入\n",
      "  image = image.resize((new_width, new_height), Image.ANTIALIAS)\n",
      "  image.save(\"resized_image.png\")\n",
      "  c.drawImage(\"resized_image.png\", 0, height - new_height, width=new_width, height=new_height)\n",
      "  \n",
      "  # PDFを保存\n",
      "  c.save()\n",
      "  \n",
      "  # PDFのプレビューを表示（Jupyter Notebook用）\n",
      "- pdf_preview = Image.open(\"9月勤怠表.pdf\")\n",
      "?                           ^^^^^\n",
      "\n",
      "+ pdf_preview = Image.open(\"output.pdf\")\n",
      "?                           ^^^^^^\n",
      "\n",
      "- display(pdf_preview)\n",
      "+ display(IPImage(filename=\"resized_image.png\"))\n",
      "+ \n"
     ]
    }
   ],
   "source": [
    "import difflib\n",
    "\n",
    "def compare_cells(cell1, cell2):\n",
    "    d = difflib.Differ()\n",
    "    diff = d.compare(cell1.splitlines(), cell2.splitlines())\n",
    "    \n",
    "    # 差分を視覚的に表示\n",
    "    return '\\n'.join(diff)\n",
    "\n",
    "# これが比較したい2つのセルの内容だと仮定\n",
    "cell1_content = \"\"\"\n",
    "from PIL import Image\n",
    "from reportlab.pdfgen import canvas\n",
    "from reportlab.lib.pagesizes import A4\n",
    "from IPython.display import display\n",
    "\n",
    "# PNGファイルを読み込む\n",
    "image_path = \"sample.png\"\n",
    "image = Image.open(r\"C:\\LocalRepo\\jupyter_on_VSCode\\jupyter_on_vscode\\9月度勤怠表.png\")\n",
    "\n",
    "# A4サイズのPDFを作成\n",
    "pdf_path = \"output.pdf\"\n",
    "c = canvas.Canvas(pdf_path, pagesize=A4)\n",
    "width, height = A4\n",
    "\n",
    "# 画像をリサイズ（A4サイズに合わせる）\n",
    "aspect_ratio = image.width / image.height\n",
    "new_width = width\n",
    "new_height = int(new_width / aspect_ratio)\n",
    "\n",
    "if new_height > height:\n",
    "    new_height = height\n",
    "    new_width = int(new_height * aspect_ratio)\n",
    "\n",
    "# 画像をPDFに挿入\n",
    "image = image.resize((new_width, new_height), Image.ANTIALIAS)\n",
    "image.save(\"resized_image.png\")\n",
    "c.drawImage(\"resized_image.png\", 0, height - new_height, width=new_width, height=new_height)\n",
    "\n",
    "# PDFを保存\n",
    "c.save()\n",
    "\n",
    "# PDFのプレビューを表示（Jupyter Notebook用）\n",
    "pdf_preview = Image.open(\"9月勤怠表.pdf\")\n",
    "display(pdf_preview)\n",
    "\"\"\"\n",
    "\n",
    "cell2_content = \"\"\"\n",
    "from PIL import Image\n",
    "from reportlab.pdfgen import canvas\n",
    "from reportlab.lib.pagesizes import A4\n",
    "from IPython.display import display, Image as IPImage\n",
    "\n",
    "# PNGファイルを読み込む\n",
    "image_path = \"sample.png\"\n",
    "image = Image.open(image_path)\n",
    "\n",
    "# A4サイズのPDFを作成\n",
    "pdf_path = \"output.pdf\"\n",
    "c = canvas.Canvas(pdf_path, pagesize=A4)\n",
    "width, height = A4\n",
    "\n",
    "# 画像をリサイズ（A4サイズに合わせる）\n",
    "aspect_ratio = image.width / image.height\n",
    "new_width = width\n",
    "new_height = int(new_width / aspect_ratio)\n",
    "\n",
    "if new_height > height:\n",
    "    new_height = height\n",
    "    new_width = int(new_height * aspect_ratio)\n",
    "\n",
    "# 画像をPDFに挿入\n",
    "image = image.resize((new_width, new_height), Image.ANTIALIAS)\n",
    "image.save(\"resized_image.png\")\n",
    "c.drawImage(\"resized_image.png\", 0, height - new_height, width=new_width, height=new_height)\n",
    "\n",
    "# PDFを保存\n",
    "c.save()\n",
    "\n",
    "# PDFのプレビューを表示（Jupyter Notebook用）\n",
    "pdf_preview = Image.open(\"output.pdf\")\n",
    "display(IPImage(filename=\"resized_image.png\"))\n",
    "\n",
    "\"\"\"\n",
    "\n",
    "# 差分を表示\n",
    "print(compare_cells(cell1_content, cell2_content))\n"
   ]
  },
  {
   "cell_type": "code",
   "execution_count": 1,
   "metadata": {},
   "outputs": [
    {
     "ename": "AttributeError",
     "evalue": "module 'PIL.Image' has no attribute 'ANTIALIAS'",
     "output_type": "error",
     "traceback": [
      "\u001b[1;31m---------------------------------------------------------------------------\u001b[0m",
      "\u001b[1;31mAttributeError\u001b[0m                            Traceback (most recent call last)",
      "\u001b[1;32mc:\\LocalRepo\\jupyter_on_VSCode\\jupyter_on_vscode\\pngtopdf.ipynb セル 8\u001b[0m line \u001b[0;36m2\n\u001b[0;32m     <a href='vscode-notebook-cell:/c%3A/LocalRepo/jupyter_on_VSCode/jupyter_on_vscode/pngtopdf.ipynb#X10sZmlsZQ%3D%3D?line=21'>22</a>\u001b[0m     new_width \u001b[39m=\u001b[39m \u001b[39mint\u001b[39m(new_height \u001b[39m*\u001b[39m aspect_ratio)\n\u001b[0;32m     <a href='vscode-notebook-cell:/c%3A/LocalRepo/jupyter_on_VSCode/jupyter_on_vscode/pngtopdf.ipynb#X10sZmlsZQ%3D%3D?line=23'>24</a>\u001b[0m \u001b[39m# 画像をPDFに挿入\u001b[39;00m\n\u001b[1;32m---> <a href='vscode-notebook-cell:/c%3A/LocalRepo/jupyter_on_VSCode/jupyter_on_vscode/pngtopdf.ipynb#X10sZmlsZQ%3D%3D?line=24'>25</a>\u001b[0m image \u001b[39m=\u001b[39m image\u001b[39m.\u001b[39mresize((new_width, new_height), Image\u001b[39m.\u001b[39;49mANTIALIAS)\n\u001b[0;32m     <a href='vscode-notebook-cell:/c%3A/LocalRepo/jupyter_on_VSCode/jupyter_on_vscode/pngtopdf.ipynb#X10sZmlsZQ%3D%3D?line=25'>26</a>\u001b[0m image\u001b[39m.\u001b[39msave(\u001b[39m\"\u001b[39m\u001b[39mresized_image.png\u001b[39m\u001b[39m\"\u001b[39m)\n\u001b[0;32m     <a href='vscode-notebook-cell:/c%3A/LocalRepo/jupyter_on_VSCode/jupyter_on_vscode/pngtopdf.ipynb#X10sZmlsZQ%3D%3D?line=26'>27</a>\u001b[0m c\u001b[39m.\u001b[39mdrawImage(\u001b[39m\"\u001b[39m\u001b[39mresized_image.png\u001b[39m\u001b[39m\"\u001b[39m, \u001b[39m0\u001b[39m, height \u001b[39m-\u001b[39m new_height, width\u001b[39m=\u001b[39mnew_width, height\u001b[39m=\u001b[39mnew_height)\n",
      "\u001b[1;31mAttributeError\u001b[0m: module 'PIL.Image' has no attribute 'ANTIALIAS'"
     ]
    }
   ],
   "source": [
    "from PIL import Image\n",
    "from reportlab.pdfgen import canvas\n",
    "from reportlab.lib.pagesizes import A4\n",
    "from IPython.display import display, Image as IPImage\n",
    "\n",
    "# PNGファイルを読み込む\n",
    "image_path = \"sample.png\"\n",
    "image = Image.open(r\"C:\\LocalRepo\\jupyter_on_VSCode\\jupyter_on_vscode\\9月度勤怠表.png\")\n",
    "\n",
    "# A4サイズのPDFを作成\n",
    "pdf_path = \"９月度勤怠表.pdf\"\n",
    "c = canvas.Canvas(pdf_path, pagesize=A4)\n",
    "width, height = A4\n",
    "\n",
    "# 画像をリサイズ（A4サイズに合わせる）\n",
    "aspect_ratio = image.width / image.height\n",
    "new_width = width\n",
    "new_height = int(new_width / aspect_ratio)\n",
    "\n",
    "if new_height > height:\n",
    "    new_height = height\n",
    "    new_width = int(new_height * aspect_ratio)\n",
    "\n",
    "# 画像をPDFに挿入\n",
    "image = image.resize((new_width, new_height), Image.ANTIALIAS)\n",
    "image.save(\"resized_image.png\")\n",
    "c.drawImage(\"resized_image.png\", 0, height - new_height, width=new_width, height=new_height)\n",
    "\n",
    "# PDFを保存\n",
    "c.save()\n",
    "\n",
    "# PDFのプレビューを表示（Jupyter Notebook用）\n",
    "pdf_preview = Image.open(\"output.pdf\")\n",
    "display(IPImage(filename=\"resized_image.png\"))\n"
   ]
  },
  {
   "cell_type": "code",
   "execution_count": 6,
   "metadata": {},
   "outputs": [
    {
     "name": "stdout",
     "output_type": "stream",
     "text": [
      "Updating dependencies\n",
      "Resolving dependencies...\n",
      "\n",
      "No dependencies to install or update\n"
     ]
    }
   ],
   "source": [
    "!poetry update pillow"
   ]
  },
  {
   "cell_type": "code",
   "execution_count": 8,
   "metadata": {},
   "outputs": [
    {
     "name": "stdout",
     "output_type": "stream",
     "text": [
      "^C\n"
     ]
    }
   ],
   "source": [
    "!python -v"
   ]
  },
  {
   "cell_type": "code",
   "execution_count": 9,
   "metadata": {},
   "outputs": [
    {
     "name": "stdout",
     "output_type": "stream",
     "text": [
      "Python 3.11.4\n"
     ]
    }
   ],
   "source": [
    "!python --version"
   ]
  },
  {
   "cell_type": "code",
   "execution_count": 10,
   "metadata": {},
   "outputs": [
    {
     "name": "stdout",
     "output_type": "stream",
     "text": [
      "10.0.1\n"
     ]
    }
   ],
   "source": [
    "import PIL\n",
    "print(PIL.__version__)\n"
   ]
  },
  {
   "cell_type": "code",
   "execution_count": 2,
   "metadata": {},
   "outputs": [
    {
     "ename": "AttributeError",
     "evalue": "module 'PIL.Image' has no attribute 'ANTIALIAS'",
     "output_type": "error",
     "traceback": [
      "\u001b[1;31m---------------------------------------------------------------------------\u001b[0m",
      "\u001b[1;31mAttributeError\u001b[0m                            Traceback (most recent call last)",
      "\u001b[1;32mc:\\LocalRepo\\jupyter_on_VSCode\\jupyter_on_vscode\\pngtopdf.ipynb セル 13\u001b[0m line \u001b[0;36m2\n\u001b[0;32m      <a href='vscode-notebook-cell:/c%3A/LocalRepo/jupyter_on_VSCode/jupyter_on_vscode/pngtopdf.ipynb#X15sZmlsZQ%3D%3D?line=0'>1</a>\u001b[0m \u001b[39mfrom\u001b[39;00m \u001b[39mPIL\u001b[39;00m \u001b[39mimport\u001b[39;00m Image\n\u001b[1;32m----> <a href='vscode-notebook-cell:/c%3A/LocalRepo/jupyter_on_VSCode/jupyter_on_vscode/pngtopdf.ipynb#X15sZmlsZQ%3D%3D?line=1'>2</a>\u001b[0m \u001b[39mprint\u001b[39m(Image\u001b[39m.\u001b[39;49mANTIALIAS)\n",
      "\u001b[1;31mAttributeError\u001b[0m: module 'PIL.Image' has no attribute 'ANTIALIAS'"
     ]
    }
   ],
   "source": [
    "from PIL import Image\n",
    "print(Image.ANTIALIAS)\n"
   ]
  },
  {
   "cell_type": "code",
   "execution_count": 3,
   "metadata": {},
   "outputs": [
    {
     "name": "stdout",
     "output_type": "stream",
     "text": [
      "Updating dependencies\n",
      "Resolving dependencies...\n",
      "\n",
      "No dependencies to install or update\n",
      "\n",
      "Writing lock file\n",
      "Using version ^10.0.1 for pillow\n",
      "\n",
      "Updating dependencies\n",
      "Resolving dependencies...\n",
      "\n",
      "No dependencies to install or update\n",
      "\n",
      "Writing lock file\n"
     ]
    }
   ],
   "source": [
    "!poetry remove pillow\n",
    "!poetry add pillow\n"
   ]
  },
  {
   "cell_type": "code",
   "execution_count": 3,
   "metadata": {},
   "outputs": [
    {
     "ename": "FileNotFoundError",
     "evalue": "[Errno 2] No such file or directory: 'output.pdf'",
     "output_type": "error",
     "traceback": [
      "\u001b[1;31m---------------------------------------------------------------------------\u001b[0m",
      "\u001b[1;31mFileNotFoundError\u001b[0m                         Traceback (most recent call last)",
      "\u001b[1;32mc:\\LocalRepo\\jupyter_on_VSCode\\jupyter_on_vscode\\pngtopdf.ipynb セル 15\u001b[0m line \u001b[0;36m3\n\u001b[0;32m     <a href='vscode-notebook-cell:/c%3A/LocalRepo/jupyter_on_VSCode/jupyter_on_vscode/pngtopdf.ipynb#X20sZmlsZQ%3D%3D?line=30'>31</a>\u001b[0m c\u001b[39m.\u001b[39msave()\n\u001b[0;32m     <a href='vscode-notebook-cell:/c%3A/LocalRepo/jupyter_on_VSCode/jupyter_on_vscode/pngtopdf.ipynb#X20sZmlsZQ%3D%3D?line=32'>33</a>\u001b[0m \u001b[39m# PDFのプレビューを表示（Jupyter Notebook用）\u001b[39;00m\n\u001b[1;32m---> <a href='vscode-notebook-cell:/c%3A/LocalRepo/jupyter_on_VSCode/jupyter_on_vscode/pngtopdf.ipynb#X20sZmlsZQ%3D%3D?line=33'>34</a>\u001b[0m pdf_preview \u001b[39m=\u001b[39m Image\u001b[39m.\u001b[39;49mopen(\u001b[39m\"\u001b[39;49m\u001b[39moutput.pdf\u001b[39;49m\u001b[39m\"\u001b[39;49m)\n\u001b[0;32m     <a href='vscode-notebook-cell:/c%3A/LocalRepo/jupyter_on_VSCode/jupyter_on_vscode/pngtopdf.ipynb#X20sZmlsZQ%3D%3D?line=34'>35</a>\u001b[0m display(IPImage(filename\u001b[39m=\u001b[39m\u001b[39m\"\u001b[39m\u001b[39mresized_image.png\u001b[39m\u001b[39m\"\u001b[39m))\n",
      "File \u001b[1;32mc:\\Users\\SOTHINK\\AppData\\Local\\pypoetry\\Cache\\virtualenvs\\jupyter-on-vscode-hB3JH4zr-py3.11\\Lib\\site-packages\\PIL\\Image.py:3218\u001b[0m, in \u001b[0;36mopen\u001b[1;34m(fp, mode, formats)\u001b[0m\n\u001b[0;32m   3215\u001b[0m     filename \u001b[39m=\u001b[39m fp\n\u001b[0;32m   3217\u001b[0m \u001b[39mif\u001b[39;00m filename:\n\u001b[1;32m-> 3218\u001b[0m     fp \u001b[39m=\u001b[39m builtins\u001b[39m.\u001b[39;49mopen(filename, \u001b[39m\"\u001b[39;49m\u001b[39mrb\u001b[39;49m\u001b[39m\"\u001b[39;49m)\n\u001b[0;32m   3219\u001b[0m     exclusive_fp \u001b[39m=\u001b[39m \u001b[39mTrue\u001b[39;00m\n\u001b[0;32m   3221\u001b[0m \u001b[39mtry\u001b[39;00m:\n",
      "\u001b[1;31mFileNotFoundError\u001b[0m: [Errno 2] No such file or directory: 'output.pdf'"
     ]
    }
   ],
   "source": [
    "from PIL import Image\n",
    "from reportlab.pdfgen import canvas\n",
    "from reportlab.lib.pagesizes import A4\n",
    "from IPython.display import display, Image as IPImage\n",
    "\n",
    "# PNGファイルを読み込む\n",
    "image_path = \"sample.png\"\n",
    "image = Image.open(r\"C:\\LocalRepo\\jupyter_on_VSCode\\jupyter_on_vscode\\9月度勤怠表.png\")\n",
    "\n",
    "# A4サイズのPDFを作成\n",
    "pdf_path = \"９月度勤怠表.pdf\"\n",
    "c = canvas.Canvas(pdf_path, pagesize=A4)\n",
    "width, height = A4\n",
    "\n",
    "# 画像をリサイズ（A4サイズに合わせる）\n",
    "aspect_ratio = image.width / image.height\n",
    "new_width = int(width)  # int() を追加\n",
    "new_height = int(new_width / aspect_ratio)  # int() を追加\n",
    "\n",
    "if new_height > height:\n",
    "    new_height = int(height)  # int() を追加\n",
    "    new_width = int(new_height * aspect_ratio)  # int() を追加\n",
    "\n",
    "\n",
    "# 画像をPDFに挿入\n",
    "image = image.resize((new_width, new_height), Image.LANCZOS)\n",
    "image.save(\"resized_image.png\")\n",
    "c.drawImage(\"resized_image.png\", 0, height - new_height, width=new_width, height=new_height)\n",
    "\n",
    "# PDFを保存\n",
    "c.save()\n",
    "\n",
    "# PDFのプレビューを表示（Jupyter Notebook用）\n",
    "pdf_preview = Image.open(\".pdf\")\n",
    "display(IPImage(filename=\"resized_image.png\"))\n"
   ]
  },
  {
   "cell_type": "code",
   "execution_count": 4,
   "metadata": {},
   "outputs": [
    {
     "ename": "FileNotFoundError",
     "evalue": "[Errno 2] No such file or directory: '９月度勤怠表.png'",
     "output_type": "error",
     "traceback": [
      "\u001b[1;31m---------------------------------------------------------------------------\u001b[0m",
      "\u001b[1;31mFileNotFoundError\u001b[0m                         Traceback (most recent call last)",
      "\u001b[1;32mc:\\LocalRepo\\jupyter_on_VSCode\\jupyter_on_vscode\\pngtopdf.ipynb セル 16\u001b[0m line \u001b[0;36m1\n\u001b[0;32m      <a href='vscode-notebook-cell:/c%3A/LocalRepo/jupyter_on_VSCode/jupyter_on_vscode/pngtopdf.ipynb#X21sZmlsZQ%3D%3D?line=8'>9</a>\u001b[0m \u001b[39m# PNGファイルを読み込む\u001b[39;00m\n\u001b[0;32m     <a href='vscode-notebook-cell:/c%3A/LocalRepo/jupyter_on_VSCode/jupyter_on_vscode/pngtopdf.ipynb#X21sZmlsZQ%3D%3D?line=9'>10</a>\u001b[0m image_path \u001b[39m=\u001b[39m \u001b[39mf\u001b[39m\u001b[39m\"\u001b[39m\u001b[39m{\u001b[39;00mfile_name\u001b[39m}\u001b[39;00m\u001b[39m.png\u001b[39m\u001b[39m\"\u001b[39m\n\u001b[1;32m---> <a href='vscode-notebook-cell:/c%3A/LocalRepo/jupyter_on_VSCode/jupyter_on_vscode/pngtopdf.ipynb#X21sZmlsZQ%3D%3D?line=10'>11</a>\u001b[0m image \u001b[39m=\u001b[39m Image\u001b[39m.\u001b[39;49mopen(image_path)\n\u001b[0;32m     <a href='vscode-notebook-cell:/c%3A/LocalRepo/jupyter_on_VSCode/jupyter_on_vscode/pngtopdf.ipynb#X21sZmlsZQ%3D%3D?line=12'>13</a>\u001b[0m \u001b[39m# A4サイズのPDFを作成\u001b[39;00m\n\u001b[0;32m     <a href='vscode-notebook-cell:/c%3A/LocalRepo/jupyter_on_VSCode/jupyter_on_vscode/pngtopdf.ipynb#X21sZmlsZQ%3D%3D?line=13'>14</a>\u001b[0m pdf_path \u001b[39m=\u001b[39m \u001b[39mf\u001b[39m\u001b[39m\"\u001b[39m\u001b[39m{\u001b[39;00mfile_name\u001b[39m}\u001b[39;00m\u001b[39m.pdf\u001b[39m\u001b[39m\"\u001b[39m\n",
      "File \u001b[1;32mc:\\Users\\SOTHINK\\AppData\\Local\\pypoetry\\Cache\\virtualenvs\\jupyter-on-vscode-hB3JH4zr-py3.11\\Lib\\site-packages\\PIL\\Image.py:3218\u001b[0m, in \u001b[0;36mopen\u001b[1;34m(fp, mode, formats)\u001b[0m\n\u001b[0;32m   3215\u001b[0m     filename \u001b[39m=\u001b[39m fp\n\u001b[0;32m   3217\u001b[0m \u001b[39mif\u001b[39;00m filename:\n\u001b[1;32m-> 3218\u001b[0m     fp \u001b[39m=\u001b[39m builtins\u001b[39m.\u001b[39;49mopen(filename, \u001b[39m\"\u001b[39;49m\u001b[39mrb\u001b[39;49m\u001b[39m\"\u001b[39;49m)\n\u001b[0;32m   3219\u001b[0m     exclusive_fp \u001b[39m=\u001b[39m \u001b[39mTrue\u001b[39;00m\n\u001b[0;32m   3221\u001b[0m \u001b[39mtry\u001b[39;00m:\n",
      "\u001b[1;31mFileNotFoundError\u001b[0m: [Errno 2] No such file or directory: '９月度勤怠表.png'"
     ]
    }
   ],
   "source": [
    "from PIL import Image\n",
    "from reportlab.pdfgen import canvas\n",
    "from reportlab.lib.pagesizes import A4\n",
    "from IPython.display import display, Image as IPImage\n",
    "\n",
    "# 共通のファイル名変数を設定\n",
    "file_name = \"９月度勤怠表\"\n",
    "\n",
    "# PNGファイルを読み込む\n",
    "image_path = f\"{file_name}.png\"\n",
    "image = Image.open(image_path)\n",
    "\n",
    "# A4サイズのPDFを作成\n",
    "pdf_path = f\"{file_name}.pdf\"\n",
    "c = canvas.Canvas(pdf_path, pagesize=A4)\n",
    "width, height = A4\n",
    "\n",
    "# 画像をリサイズ（A4サイズに合わせる）\n",
    "aspect_ratio = image.width / image.height\n",
    "new_width = int(width)\n",
    "new_height = int(new_width / aspect_ratio)\n",
    "\n",
    "if new_height > height:\n",
    "    new_height = int(height)\n",
    "    new_width = int(new_height * aspect_ratio)\n",
    "\n",
    "# 画像をPDFに挿入\n",
    "resized_image_path = \"resized_image.png\"\n",
    "image = image.resize((new_width, new_height), Image.LANCZOS)\n",
    "image.save(resized_image_path)\n",
    "c.drawImage(resized_image_path, 0, height - new_height, width=new_width, height=new_height)\n",
    "\n",
    "# PDFを保存\n",
    "c.save()\n",
    "\n",
    "# PDFのプレビューを表示（Jupyter Notebook用）\n",
    "# 注意: PILはPDFを読み込めないため、この部分は実際には動作しない\n",
    "# display(IPImage(filename=pdf_path))\n"
   ]
  },
  {
   "cell_type": "code",
   "execution_count": 5,
   "metadata": {},
   "outputs": [
    {
     "name": "stdout",
     "output_type": "stream",
     "text": [
      "pillow    10.0.1 Python Imaging Library (Fork)\n",
      "reportlab 4.0.5  The Reportlab Toolkit\n"
     ]
    }
   ],
   "source": [
    "!poetry show"
   ]
  },
  {
   "cell_type": "code",
   "execution_count": 7,
   "metadata": {},
   "outputs": [
    {
     "name": "stdout",
     "output_type": "stream",
     "text": [
      "Using version ^8.15.0 for ipython\n",
      "Using version ^6.25.2 for ipykernel\n",
      "\n",
      "Updating dependencies\n",
      "Resolving dependencies...\n",
      "\n",
      "Package operations: 0 installs, 7 updates, 0 removals\n",
      "\n",
      "  • Updating asttokens (2.2.1 -> 2.4.0)\n",
      "  • Updating traitlets (5.9.0 -> 5.10.0)\n",
      "  • Updating debugpy (1.6.7.post1 -> 1.8.0)\n",
      "  • Updating ipython (8.14.0 -> 8.15.0)\n",
      "  • Updating jupyter-client (8.3.0 -> 8.3.1)\n",
      "  • Updating nest-asyncio (1.5.7 -> 1.5.8)\n",
      "  • Updating ipykernel (6.25.1 -> 6.25.2)\n",
      "\n",
      "Writing lock file\n"
     ]
    }
   ],
   "source": [
    "!poetry add ipython ipykernel"
   ]
  },
  {
   "cell_type": "code",
   "execution_count": 8,
   "metadata": {},
   "outputs": [
    {
     "ename": "FileNotFoundError",
     "evalue": "[Errno 2] No such file or directory: '.pdf'",
     "output_type": "error",
     "traceback": [
      "\u001b[1;31m---------------------------------------------------------------------------\u001b[0m",
      "\u001b[1;31mFileNotFoundError\u001b[0m                         Traceback (most recent call last)",
      "\u001b[1;32mc:\\LocalRepo\\jupyter_on_VSCode\\jupyter_on_vscode\\pngtopdf.ipynb セル 19\u001b[0m line \u001b[0;36m3\n\u001b[0;32m     <a href='vscode-notebook-cell:/c%3A/LocalRepo/jupyter_on_VSCode/jupyter_on_vscode/pngtopdf.ipynb#X24sZmlsZQ%3D%3D?line=30'>31</a>\u001b[0m c\u001b[39m.\u001b[39msave()\n\u001b[0;32m     <a href='vscode-notebook-cell:/c%3A/LocalRepo/jupyter_on_VSCode/jupyter_on_vscode/pngtopdf.ipynb#X24sZmlsZQ%3D%3D?line=32'>33</a>\u001b[0m \u001b[39m# PDFのプレビューを表示（Jupyter Notebook用）\u001b[39;00m\n\u001b[1;32m---> <a href='vscode-notebook-cell:/c%3A/LocalRepo/jupyter_on_VSCode/jupyter_on_vscode/pngtopdf.ipynb#X24sZmlsZQ%3D%3D?line=33'>34</a>\u001b[0m pdf_preview \u001b[39m=\u001b[39m Image\u001b[39m.\u001b[39;49mopen(\u001b[39m\"\u001b[39;49m\u001b[39m.pdf\u001b[39;49m\u001b[39m\"\u001b[39;49m)\n\u001b[0;32m     <a href='vscode-notebook-cell:/c%3A/LocalRepo/jupyter_on_VSCode/jupyter_on_vscode/pngtopdf.ipynb#X24sZmlsZQ%3D%3D?line=34'>35</a>\u001b[0m display(IPImage(filename\u001b[39m=\u001b[39m\u001b[39m\"\u001b[39m\u001b[39mresized_image.png\u001b[39m\u001b[39m\"\u001b[39m))\n",
      "File \u001b[1;32mc:\\Users\\SOTHINK\\AppData\\Local\\pypoetry\\Cache\\virtualenvs\\jupyter-on-vscode-hB3JH4zr-py3.11\\Lib\\site-packages\\PIL\\Image.py:3218\u001b[0m, in \u001b[0;36mopen\u001b[1;34m(fp, mode, formats)\u001b[0m\n\u001b[0;32m   3215\u001b[0m     filename \u001b[39m=\u001b[39m fp\n\u001b[0;32m   3217\u001b[0m \u001b[39mif\u001b[39;00m filename:\n\u001b[1;32m-> 3218\u001b[0m     fp \u001b[39m=\u001b[39m builtins\u001b[39m.\u001b[39mopen(filename, \u001b[39m\"\u001b[39m\u001b[39mrb\u001b[39m\u001b[39m\"\u001b[39m)\n\u001b[0;32m   3219\u001b[0m     exclusive_fp \u001b[39m=\u001b[39m \u001b[39mTrue\u001b[39;00m\n\u001b[0;32m   3221\u001b[0m \u001b[39mtry\u001b[39;00m:\n",
      "\u001b[1;31mFileNotFoundError\u001b[0m: [Errno 2] No such file or directory: '.pdf'"
     ]
    }
   ],
   "source": [
    "from PIL import Image\n",
    "from reportlab.pdfgen import canvas\n",
    "from reportlab.lib.pagesizes import A4\n",
    "from IPython.display import display, Image as IPImage\n",
    "\n",
    "# PNGファイルを読み込む\n",
    "image_path = \"sample.png\"\n",
    "image = Image.open(r\"C:\\LocalRepo\\jupyter_on_VSCode\\jupyter_on_vscode\\9月度勤怠表.png\")\n",
    "\n",
    "# A4サイズのPDFを作成\n",
    "pdf_path = \"９月度勤怠表.pdf\"\n",
    "c = canvas.Canvas(pdf_path, pagesize=A4)\n",
    "width, height = A4\n",
    "\n",
    "# 画像をリサイズ（A4サイズに合わせる）\n",
    "aspect_ratio = image.width / image.height\n",
    "new_width = int(width)  # int() を追加\n",
    "new_height = int(new_width / aspect_ratio)  # int() を追加\n",
    "\n",
    "if new_height > height:\n",
    "    new_height = int(height)  # int() を追加\n",
    "    new_width = int(new_height * aspect_ratio)  # int() を追加\n",
    "\n",
    "\n",
    "# 画像をPDFに挿入\n",
    "image = image.resize((new_width, new_height), Image.LANCZOS)\n",
    "image.save(\"resized_image.png\")\n",
    "c.drawImage(\"resized_image.png\", 0, height - new_height, width=new_width, height=new_height)\n",
    "\n",
    "# PDFを保存\n",
    "c.save()\n",
    "\n",
    "# PDFのプレビューを表示（Jupyter Notebook用）\n",
    "#pdf_preview = Image.open(\".pdf\")\n",
    "display(IPImage(filename=\"resized_image.png\"))\n"
   ]
  },
  {
   "cell_type": "code",
   "execution_count": 1,
   "metadata": {},
   "outputs": [
    {
     "data": {
      "application/pdf": "[encoded data removed]"
     },
     "metadata": {},
     "output_type": "display_data"
    }
   ],
   "source": [
    "from IPython.display import display_pdf\n",
    "from PIL import Image\n",
    "from reportlab.pdfgen import canvas\n",
    "from reportlab.lib.pagesizes import A4\n",
    "from IPython.display import display, Image as IPImage\n",
    "\n",
    "# PNGファイルを読み込む\n",
    "image_path = r\"C:\\LocalRepo\\jupyter_on_VSCode\\jupyter_on_vscode\\9月度勤怠表.png\"\n",
    "image = Image.open(image_path)\n",
    "\n",
    "# A4サイズのPDFを作成\n",
    "pdf_path = \"９月度勤怠表.pdf\"\n",
    "c = canvas.Canvas(pdf_path, pagesize=A4)\n",
    "width, height = A4\n",
    "\n",
    "# 画像をリサイズ（A4サイズに合わせる）\n",
    "aspect_ratio = image.width / image.height\n",
    "new_width = int(width)\n",
    "new_height = int(new_width / aspect_ratio)\n",
    "\n",
    "if new_height > height:\n",
    "    new_height = int(height)\n",
    "    new_width = int(new_height * aspect_ratio)\n",
    "\n",
    "# 画像をPDFに挿入\n",
    "image = image.resize((new_width, new_height), Image.LANCZOS)\n",
    "image.save(\"resized_image.png\")\n",
    "c.drawImage(\"resized_image.png\", 0, height - new_height, width=new_width, height=new_height)\n",
    "\n",
    "# PDFを保存\n",
    "c.save()\n",
    "\n",
    "# PDFのプレビューを表示（Jupyter Notebook用）\n",
    "with open(pdf_path, \"rb\") as f:\n",
    "    display_pdf(f.read(), raw=True)\n"
   ]
  },
  {
   "cell_type": "code",
   "execution_count": 2,
   "metadata": {},
   "outputs": [
    {
     "data": {
      "text/plain": [
       "True"
      ]
     },
     "execution_count": 2,
     "metadata": {},
     "output_type": "execute_result"
    }
   ],
   "source": [
    "import webbrowser\n",
    "webbrowser.open(r\"C:\\LocalRepo\\jupyter_on_VSCode\\jupyter_on_vscode\\９月度勤怠表.pdf\")\n"
   ]
  },
  {
   "cell_type": "code",
   "execution_count": 4,
   "metadata": {},
   "outputs": [
    {
     "ename": "AttributeError",
     "evalue": "module 'PIL.Image' has no attribute 'ANTIALIAS'",
     "output_type": "error",
     "traceback": [
      "\u001b[1;31m---------------------------------------------------------------------------\u001b[0m",
      "\u001b[1;31mAttributeError\u001b[0m                            Traceback (most recent call last)",
      "\u001b[1;32mc:\\LocalRepo\\jupyter_on_VSCode\\jupyter_on_vscode\\pngtopdf.ipynb セル 22\u001b[0m line \u001b[0;36m2\n\u001b[0;32m     <a href='vscode-notebook-cell:/c%3A/LocalRepo/jupyter_on_VSCode/jupyter_on_vscode/pngtopdf.ipynb#X30sZmlsZQ%3D%3D?line=20'>21</a>\u001b[0m     new_width \u001b[39m=\u001b[39m \u001b[39mint\u001b[39m(new_height \u001b[39m*\u001b[39m aspect_ratio)\n\u001b[0;32m     <a href='vscode-notebook-cell:/c%3A/LocalRepo/jupyter_on_VSCode/jupyter_on_vscode/pngtopdf.ipynb#X30sZmlsZQ%3D%3D?line=22'>23</a>\u001b[0m \u001b[39m# 画像をPDFに挿入\u001b[39;00m\n\u001b[1;32m---> <a href='vscode-notebook-cell:/c%3A/LocalRepo/jupyter_on_VSCode/jupyter_on_vscode/pngtopdf.ipynb#X30sZmlsZQ%3D%3D?line=23'>24</a>\u001b[0m image \u001b[39m=\u001b[39m image\u001b[39m.\u001b[39mresize((new_width, new_height), Image\u001b[39m.\u001b[39;49mANTIALIAS)  \u001b[39m# ANTIALIASを使用\u001b[39;00m\n\u001b[0;32m     <a href='vscode-notebook-cell:/c%3A/LocalRepo/jupyter_on_VSCode/jupyter_on_vscode/pngtopdf.ipynb#X30sZmlsZQ%3D%3D?line=24'>25</a>\u001b[0m image\u001b[39m.\u001b[39msave(\u001b[39m\"\u001b[39m\u001b[39mresized_image.png\u001b[39m\u001b[39m\"\u001b[39m)\n\u001b[0;32m     <a href='vscode-notebook-cell:/c%3A/LocalRepo/jupyter_on_VSCode/jupyter_on_vscode/pngtopdf.ipynb#X30sZmlsZQ%3D%3D?line=25'>26</a>\u001b[0m c\u001b[39m.\u001b[39mdrawImage(\u001b[39m\"\u001b[39m\u001b[39mresized_image.png\u001b[39m\u001b[39m\"\u001b[39m, \u001b[39m0\u001b[39m, height \u001b[39m-\u001b[39m new_height, width\u001b[39m=\u001b[39mnew_width, height\u001b[39m=\u001b[39mnew_height)\n",
      "\u001b[1;31mAttributeError\u001b[0m: module 'PIL.Image' has no attribute 'ANTIALIAS'"
     ]
    }
   ],
   "source": [
    "from PIL import Image\n",
    "from reportlab.pdfgen import canvas\n",
    "from reportlab.lib.pagesizes import A4\n",
    "\n",
    "# PNGファイルを読み込む\n",
    "image_path = r\"9月度勤怠表.png\"  # <-- あなたの画像のパスに変更してください\n",
    "image = Image.open(image_path)\n",
    "\n",
    "# A4サイズのPDFを作成\n",
    "pdf_path = \"output2.pdf\"\n",
    "c = canvas.Canvas(pdf_path, pagesize=A4)\n",
    "width, height = A4\n",
    "\n",
    "# 画像をリサイズ（A4サイズに合わせる）\n",
    "aspect_ratio = image.width / image.height\n",
    "new_width = int(width)\n",
    "new_height = int(new_width / aspect_ratio)\n",
    "\n",
    "if new_height > height:\n",
    "    new_height = int(height)\n",
    "    new_width = int(new_height * aspect_ratio)\n",
    "\n",
    "# 画像をPDFに挿入\n",
    "image = image.resize((new_width, new_height), Image.ANTIALIAS)  # ANTIALIASを使用\n",
    "image.save(\"resized_image.png\")\n",
    "c.drawImage(\"resized_image.png\", 0, height - new_height, width=new_width, height=new_height)\n",
    "\n",
    "# PDFを保存\n",
    "c.save()\n"
   ]
  },
  {
   "cell_type": "code",
   "execution_count": 2,
   "metadata": {},
   "outputs": [],
   "source": [
    "from PIL import Image\n",
    "from reportlab.pdfgen import canvas\n",
    "from reportlab.lib.pagesizes import A4\n",
    "\n",
    "# PNGファイルを読み込む\n",
    "image_path = r\"C:\\LocalRepo\\jupyter_on_VSCode\\jupyter_on_vscode\\9月度勤怠表.png\"  # <-- あなたの画像のパスに変更してください\n",
    "image = Image.open(image_path)\n",
    "\n",
    "# PDFを作成\n",
    "pdf_path = \"output.pdf\"\n",
    "c = canvas.Canvas(pdf_path, pagesize=A4)\n",
    "width, height = A4\n",
    "\n",
    "# 画像の元のサイズを取得\n",
    "img_width, img_height = image.size\n",
    "\n",
    "# 画像をPDFに挿入\n",
    "c.drawImage(image_path, 0, height - img_height, width=img_width, height=img_height)\n",
    "\n",
    "# PDFを保存\n",
    "c.save()\n"
   ]
  },
  {
   "cell_type": "code",
   "execution_count": 3,
   "metadata": {},
   "outputs": [],
   "source": [
    "from PIL import Image\n",
    "from reportlab.pdfgen import canvas\n",
    "from reportlab.lib.pagesizes import A4\n",
    "\n",
    "# PNGファイルを読み込む\n",
    "image_path = r\"C:\\LocalRepo\\jupyter_on_VSCode\\jupyter_on_vscode\\9月度勤怠表.png\"  # <-- あなたの画像のパスに変更してください\n",
    "image = Image.open(image_path)\n",
    "\n",
    "# PDFを作成\n",
    "pdf_path = \"output.pdf\"\n",
    "c = canvas.Canvas(pdf_path, pagesize=A4)\n",
    "width, height = A4\n",
    "\n",
    "# 画像の元のサイズを取得\n",
    "img_width, img_height = image.size\n",
    "\n",
    "# 画像がA4サイズに収まるように位置を調整\n",
    "x_position = (width - img_width) / 2\n",
    "y_position = (height - img_height) / 2\n",
    "\n",
    "# 画像をPDFに挿入\n",
    "c.drawImage(image_path, x_position, y_position, width=img_width, height=img_height)\n",
    "\n",
    "# PDFを保存\n",
    "c.save()\n"
   ]
  },
  {
   "cell_type": "code",
   "execution_count": 4,
   "metadata": {},
   "outputs": [],
   "source": [
    "from PIL import Image\n",
    "from reportlab.pdfgen import canvas\n",
    "\n",
    "# PNGファイルを読み込む\n",
    "image_path = r\"C:\\LocalRepo\\jupyter_on_VSCode\\jupyter_on_vscode\\9月度勤怠表.png\"  # <-- あなたの画像のパスに変更してください\n",
    "image = Image.open(image_path)\n",
    "\n",
    "# 画像の元のサイズを取得\n",
    "img_width, img_height = image.size\n",
    "\n",
    "# PDFを作成（ページサイズを画像のサイズに合わせる）\n",
    "pdf_path = \"output.pdf\"\n",
    "c = canvas.Canvas(pdf_path, pagesize=(img_width, img_height))\n",
    "\n",
    "# 画像をPDFに挿入\n",
    "c.drawImage(image_path, 0, 0, width=img_width, height=img_height)\n",
    "\n",
    "# PDFを保存\n",
    "c.save()\n"
   ]
  },
  {
   "cell_type": "code",
   "execution_count": 10,
   "metadata": {},
   "outputs": [
    {
     "name": "stdout",
     "output_type": "stream",
     "text": [
      "303\n",
      "5.05\n"
     ]
    }
   ],
   "source": [
    "x=20+30+49+11+68+20+26+31+10+13+11+14\n",
    "print(x)\n",
    "print(x/60)"
   ]
  },
  {
   "cell_type": "code",
   "execution_count": 11,
   "metadata": {},
   "outputs": [],
   "source": [
    "from PIL import Image\n",
    "from reportlab.pdfgen import canvas\n",
    "\n",
    "# PNGファイルを読み込む\n",
    "image_path = r\"C:\\LocalRepo\\jupyter_on_VSCode\\jupyter_on_vscode\\9月度勤怠表2.png\"  # <-- あなたの画像のパスに変更してください\n",
    "image = Image.open(image_path)\n",
    "\n",
    "# 画像の元のサイズを取得\n",
    "img_width, img_height = image.size\n",
    "\n",
    "# PDFを作成（ページサイズを画像のサイズに合わせる）\n",
    "pdf_path = \"9月度勤怠表.pdf\"\n",
    "c = canvas.Canvas(pdf_path, pagesize=(img_width, img_height))\n",
    "\n",
    "# 画像をPDFに挿入\n",
    "c.drawImage(image_path, 0, 0, width=img_width, height=img_height)\n",
    "\n",
    "# PDFを保存\n",
    "c.save()\n"
   ]
  },
  {
   "cell_type": "code",
   "execution_count": null,
   "metadata": {},
   "outputs": [],
   "source": []
  }
 ],
 "metadata": {
  "kernelspec": {
   "display_name": "jupyter-on-vscode-hB3JH4zr-py3.11",
   "language": "python",
   "name": "python3"
  },
  "language_info": {
   "codemirror_mode": {
    "name": "ipython",
    "version": 3
   },
   "file_extension": ".py",
   "mimetype": "text/x-python",
   "name": "python",
   "nbconvert_exporter": "python",
   "pygments_lexer": "ipython3",
   "version": "3.11.4"
  },
  "orig_nbformat": 4
 },
 "nbformat": 4,
 "nbformat_minor": 2
}
