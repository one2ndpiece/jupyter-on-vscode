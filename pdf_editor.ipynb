{
 "cells": [
  {
   "cell_type": "code",
   "execution_count": 1,
   "metadata": {},
   "outputs": [
    {
     "name": "stdout",
     "output_type": "stream",
     "text": [
      "Using version ^3.0.1 for pypdf2\n",
      "\n",
      "Updating dependencies\n",
      "Resolving dependencies...\n",
      "\n",
      "Package operations: 1 install, 0 updates, 0 removals\n",
      "\n",
      "  • Installing pypdf2 (3.0.1)\n",
      "\n",
      "Writing lock file\n"
     ]
    }
   ],
   "source": [
    "!poetry add PyPDF2"
   ]
  },
  {
   "cell_type": "code",
   "execution_count": 2,
   "metadata": {},
   "outputs": [
    {
     "ename": "DeprecationError",
     "evalue": "PdfFileReader is deprecated and was removed in PyPDF2 3.0.0. Use PdfReader instead.",
     "output_type": "error",
     "traceback": [
      "\u001b[1;31m---------------------------------------------------------------------------\u001b[0m",
      "\u001b[1;31mDeprecationError\u001b[0m                          Traceback (most recent call last)",
      "Cell \u001b[1;32mIn[2], line 35\u001b[0m\n\u001b[0;32m     32\u001b[0m input_path \u001b[39m=\u001b[39m \u001b[39mr\u001b[39m\u001b[39m\"\u001b[39m\u001b[39mC:\u001b[39m\u001b[39m\\\u001b[39m\u001b[39mUsers\u001b[39m\u001b[39m\\\u001b[39m\u001b[39mtoran\u001b[39m\u001b[39m\\\u001b[39m\u001b[39mlocalgit\u001b[39m\u001b[39m\\\u001b[39m\u001b[39mjupyter_on_vscode\u001b[39m\u001b[39m\\\u001b[39m\u001b[39m2926_slide (1).pdf\u001b[39m\u001b[39m\"\u001b[39m  \u001b[39m# パスワード付きのPDFファイルのパス\u001b[39;00m\n\u001b[0;32m     33\u001b[0m password \u001b[39m=\u001b[39m \u001b[39m\"\u001b[39m\u001b[39mSutepass\u001b[39m\u001b[39m\"\u001b[39m  \u001b[39m# PDFのパスワード\u001b[39;00m\n\u001b[1;32m---> 35\u001b[0m decrypt_pdf(input_path, password)\n",
      "Cell \u001b[1;32mIn[2], line 13\u001b[0m, in \u001b[0;36mdecrypt_pdf\u001b[1;34m(input_path, password)\u001b[0m\n\u001b[0;32m     11\u001b[0m \u001b[39m# PDFファイルを読み込む\u001b[39;00m\n\u001b[0;32m     12\u001b[0m \u001b[39mwith\u001b[39;00m \u001b[39mopen\u001b[39m(input_path, \u001b[39m'\u001b[39m\u001b[39mrb\u001b[39m\u001b[39m'\u001b[39m) \u001b[39mas\u001b[39;00m f:\n\u001b[1;32m---> 13\u001b[0m     reader \u001b[39m=\u001b[39m PyPDF2\u001b[39m.\u001b[39;49mPdfFileReader(f)\n\u001b[0;32m     15\u001b[0m     \u001b[39m# パスワードでPDFを解除\u001b[39;00m\n\u001b[0;32m     16\u001b[0m     \u001b[39mif\u001b[39;00m reader\u001b[39m.\u001b[39misEncrypted:\n",
      "File \u001b[1;32mc:\\Users\\toran\\AppData\\Local\\pypoetry\\Cache\\virtualenvs\\jupyte-on-vscode-Zgb-ctza-py3.11\\Lib\\site-packages\\PyPDF2\\_reader.py:1974\u001b[0m, in \u001b[0;36mPdfFileReader.__init__\u001b[1;34m(self, *args, **kwargs)\u001b[0m\n\u001b[0;32m   1973\u001b[0m \u001b[39mdef\u001b[39;00m \u001b[39m__init__\u001b[39m(\u001b[39mself\u001b[39m, \u001b[39m*\u001b[39margs: Any, \u001b[39m*\u001b[39m\u001b[39m*\u001b[39mkwargs: Any) \u001b[39m-\u001b[39m\u001b[39m>\u001b[39m \u001b[39mNone\u001b[39;00m:\n\u001b[1;32m-> 1974\u001b[0m     deprecation_with_replacement(\u001b[39m\"\u001b[39;49m\u001b[39mPdfFileReader\u001b[39;49m\u001b[39m\"\u001b[39;49m, \u001b[39m\"\u001b[39;49m\u001b[39mPdfReader\u001b[39;49m\u001b[39m\"\u001b[39;49m, \u001b[39m\"\u001b[39;49m\u001b[39m3.0.0\u001b[39;49m\u001b[39m\"\u001b[39;49m)\n\u001b[0;32m   1975\u001b[0m     \u001b[39mif\u001b[39;00m \u001b[39m\"\u001b[39m\u001b[39mstrict\u001b[39m\u001b[39m\"\u001b[39m \u001b[39mnot\u001b[39;00m \u001b[39min\u001b[39;00m kwargs \u001b[39mand\u001b[39;00m \u001b[39mlen\u001b[39m(args) \u001b[39m<\u001b[39m \u001b[39m2\u001b[39m:\n\u001b[0;32m   1976\u001b[0m         kwargs[\u001b[39m\"\u001b[39m\u001b[39mstrict\u001b[39m\u001b[39m\"\u001b[39m] \u001b[39m=\u001b[39m \u001b[39mTrue\u001b[39;00m  \u001b[39m# maintain the default\u001b[39;00m\n",
      "File \u001b[1;32mc:\\Users\\toran\\AppData\\Local\\pypoetry\\Cache\\virtualenvs\\jupyte-on-vscode-Zgb-ctza-py3.11\\Lib\\site-packages\\PyPDF2\\_utils.py:369\u001b[0m, in \u001b[0;36mdeprecation_with_replacement\u001b[1;34m(old_name, new_name, removed_in)\u001b[0m\n\u001b[0;32m    363\u001b[0m \u001b[39mdef\u001b[39;00m \u001b[39mdeprecation_with_replacement\u001b[39m(\n\u001b[0;32m    364\u001b[0m     old_name: \u001b[39mstr\u001b[39m, new_name: \u001b[39mstr\u001b[39m, removed_in: \u001b[39mstr\u001b[39m \u001b[39m=\u001b[39m \u001b[39m\"\u001b[39m\u001b[39m3.0.0\u001b[39m\u001b[39m\"\u001b[39m\n\u001b[0;32m    365\u001b[0m ) \u001b[39m-\u001b[39m\u001b[39m>\u001b[39m \u001b[39mNone\u001b[39;00m:\n\u001b[0;32m    366\u001b[0m \u001b[39m    \u001b[39m\u001b[39m\"\"\"\u001b[39;00m\n\u001b[0;32m    367\u001b[0m \u001b[39m    Raise an exception that a feature was already removed, but has a replacement.\u001b[39;00m\n\u001b[0;32m    368\u001b[0m \u001b[39m    \"\"\"\u001b[39;00m\n\u001b[1;32m--> 369\u001b[0m     deprecation(DEPR_MSG_HAPPENED\u001b[39m.\u001b[39;49mformat(old_name, removed_in, new_name))\n",
      "File \u001b[1;32mc:\\Users\\toran\\AppData\\Local\\pypoetry\\Cache\\virtualenvs\\jupyte-on-vscode-Zgb-ctza-py3.11\\Lib\\site-packages\\PyPDF2\\_utils.py:351\u001b[0m, in \u001b[0;36mdeprecation\u001b[1;34m(msg)\u001b[0m\n\u001b[0;32m    350\u001b[0m \u001b[39mdef\u001b[39;00m \u001b[39mdeprecation\u001b[39m(msg: \u001b[39mstr\u001b[39m) \u001b[39m-\u001b[39m\u001b[39m>\u001b[39m \u001b[39mNone\u001b[39;00m:\n\u001b[1;32m--> 351\u001b[0m     \u001b[39mraise\u001b[39;00m DeprecationError(msg)\n",
      "\u001b[1;31mDeprecationError\u001b[0m: PdfFileReader is deprecated and was removed in PyPDF2 3.0.0. Use PdfReader instead."
     ]
    }
   ],
   "source": [
    "import os\n",
    "import PyPDF2\n",
    "\n",
    "def decrypt_pdf(input_path, password):\n",
    "    # 元のPDFファイル名から新しいPDFファイル名を生成\n",
    "    base_name = os.path.basename(input_path)\n",
    "    name_without_extension = os.path.splitext(base_name)[0]\n",
    "    output_name = f\"{name_without_extension}_unlocked.pdf\"\n",
    "    output_path = os.path.join(\"/\", output_name)  # ルートディレクトリに保存\n",
    "\n",
    "    # PDFファイルを読み込む\n",
    "    with open(input_path, 'rb') as f:\n",
    "        reader = PyPDF2.PdfFileReader(f)\n",
    "        \n",
    "        # パスワードでPDFを解除\n",
    "        if reader.isEncrypted:\n",
    "            reader.decrypt(password)\n",
    "        \n",
    "        # 新しいPDFファイルを作成\n",
    "        writer = PyPDF2.PdfFileWriter()\n",
    "        \n",
    "        # すべてのページをコピー\n",
    "        for i in range(reader.numPages):\n",
    "            page = reader.getPage(i)\n",
    "            writer.addPage(page)\n",
    "        \n",
    "        # 新しいPDFファイルに保存\n",
    "        with open(output_path, 'wb') as f_out:\n",
    "            writer.write(f_out)\n",
    "\n",
    "# 使用例\n",
    "input_path = r\"C:\\Users\\toran\\localgit\\jupyter_on_vscode\\2926_slide (1).pdf\"  # パスワード付きのPDFファイルのパス\n",
    "password = \"*********\"  # PDFのパスワード\n",
    "\n",
    "decrypt_pdf(input_path, password)\n"
   ]
  },
  {
   "cell_type": "code",
   "execution_count": 3,
   "metadata": {},
   "outputs": [
    {
     "ename": "PermissionError",
     "evalue": "[Errno 13] Permission denied: '/2926_slide (1)_unlocked.pdf'",
     "output_type": "error",
     "traceback": [
      "\u001b[1;31m---------------------------------------------------------------------------\u001b[0m",
      "\u001b[1;31mPermissionError\u001b[0m                           Traceback (most recent call last)",
      "Cell \u001b[1;32mIn[3], line 35\u001b[0m\n\u001b[0;32m     32\u001b[0m input_path \u001b[39m=\u001b[39m \u001b[39mr\u001b[39m\u001b[39m\"\u001b[39m\u001b[39mC:\u001b[39m\u001b[39m\\\u001b[39m\u001b[39mUsers\u001b[39m\u001b[39m\\\u001b[39m\u001b[39mtoran\u001b[39m\u001b[39m\\\u001b[39m\u001b[39mlocalgit\u001b[39m\u001b[39m\\\u001b[39m\u001b[39mjupyter_on_vscode\u001b[39m\u001b[39m\\\u001b[39m\u001b[39m2926_slide (1).pdf\u001b[39m\u001b[39m\"\u001b[39m  \u001b[39m# パスワード付きのPDFファイルのパス\u001b[39;00m\n\u001b[0;32m     33\u001b[0m password \u001b[39m=\u001b[39m \u001b[39m\"\u001b[39m\u001b[39mSutepass\u001b[39m\u001b[39m\"\u001b[39m  \u001b[39m# PDFのパスワード\u001b[39;00m\n\u001b[1;32m---> 35\u001b[0m decrypt_pdf(input_path, password)\n",
      "Cell \u001b[1;32mIn[3], line 28\u001b[0m, in \u001b[0;36mdecrypt_pdf\u001b[1;34m(input_path, password)\u001b[0m\n\u001b[0;32m     25\u001b[0m     writer\u001b[39m.\u001b[39madd_page(page)\n\u001b[0;32m     27\u001b[0m \u001b[39m# 新しいPDFファイルに保存\u001b[39;00m\n\u001b[1;32m---> 28\u001b[0m \u001b[39mwith\u001b[39;00m \u001b[39mopen\u001b[39;49m(output_path, \u001b[39m'\u001b[39;49m\u001b[39mwb\u001b[39;49m\u001b[39m'\u001b[39;49m) \u001b[39mas\u001b[39;00m f_out:\n\u001b[0;32m     29\u001b[0m     writer\u001b[39m.\u001b[39mwrite(f_out)\n",
      "File \u001b[1;32mc:\\Users\\toran\\AppData\\Local\\pypoetry\\Cache\\virtualenvs\\jupyte-on-vscode-Zgb-ctza-py3.11\\Lib\\site-packages\\IPython\\core\\interactiveshell.py:284\u001b[0m, in \u001b[0;36m_modified_open\u001b[1;34m(file, *args, **kwargs)\u001b[0m\n\u001b[0;32m    277\u001b[0m \u001b[39mif\u001b[39;00m file \u001b[39min\u001b[39;00m {\u001b[39m0\u001b[39m, \u001b[39m1\u001b[39m, \u001b[39m2\u001b[39m}:\n\u001b[0;32m    278\u001b[0m     \u001b[39mraise\u001b[39;00m \u001b[39mValueError\u001b[39;00m(\n\u001b[0;32m    279\u001b[0m         \u001b[39mf\u001b[39m\u001b[39m\"\u001b[39m\u001b[39mIPython won\u001b[39m\u001b[39m'\u001b[39m\u001b[39mt let you open fd=\u001b[39m\u001b[39m{\u001b[39;00mfile\u001b[39m}\u001b[39;00m\u001b[39m by default \u001b[39m\u001b[39m\"\u001b[39m\n\u001b[0;32m    280\u001b[0m         \u001b[39m\"\u001b[39m\u001b[39mas it is likely to crash IPython. If you know what you are doing, \u001b[39m\u001b[39m\"\u001b[39m\n\u001b[0;32m    281\u001b[0m         \u001b[39m\"\u001b[39m\u001b[39myou can use builtins\u001b[39m\u001b[39m'\u001b[39m\u001b[39m open.\u001b[39m\u001b[39m\"\u001b[39m\n\u001b[0;32m    282\u001b[0m     )\n\u001b[1;32m--> 284\u001b[0m \u001b[39mreturn\u001b[39;00m io_open(file, \u001b[39m*\u001b[39;49margs, \u001b[39m*\u001b[39;49m\u001b[39m*\u001b[39;49mkwargs)\n",
      "\u001b[1;31mPermissionError\u001b[0m: [Errno 13] Permission denied: '/2926_slide (1)_unlocked.pdf'"
     ]
    }
   ],
   "source": [
    "import os\n",
    "from PyPDF2 import PdfReader, PdfWriter\n",
    "\n",
    "def decrypt_pdf(input_path, password):\n",
    "    # 元のPDFファイル名から新しいPDFファイル名を生成\n",
    "    base_name = os.path.basename(input_path)\n",
    "    name_without_extension = os.path.splitext(base_name)[0]\n",
    "    output_name = f\"{name_without_extension}_unlocked.pdf\"\n",
    "    output_path = os.path.join(\"/\", output_name)  # ルートディレクトリに保存\n",
    "\n",
    "    # PDFファイルを読み込む\n",
    "    with open(input_path, 'rb') as f:\n",
    "        reader = PdfReader(f)\n",
    "        \n",
    "        # パスワードでPDFを解除\n",
    "        if reader.is_encrypted:\n",
    "            reader.decrypt(password)\n",
    "        \n",
    "        # 新しいPDFファイルを作成\n",
    "        writer = PdfWriter()\n",
    "        \n",
    "        # すべてのページをコピー\n",
    "        for i in range(len(reader.pages)):\n",
    "            page = reader.pages[i]\n",
    "            writer.add_page(page)\n",
    "        \n",
    "        # 新しいPDFファイルに保存\n",
    "        with open(output_path, 'wb') as f_out:\n",
    "            writer.write(f_out)\n",
    "\n",
    "# 使用例\n",
    "input_path = r\"C:\\Users\\toran\\localgit\\jupyter_on_vscode\\2926_slide (1).pdf\"  # パスワード付きのPDFファイルのパス\n",
    "password = \"Sutepass\"  # PDFのパスワード\n",
    "\n",
    "decrypt_pdf(input_path, password)\n"
   ]
  },
  {
   "cell_type": "code",
   "execution_count": 4,
   "metadata": {},
   "outputs": [],
   "source": [
    "import os\n",
    "from PyPDF2 import PdfReader, PdfWriter\n",
    "\n",
    "def decrypt_pdf(input_path, password):\n",
    "    # 元のPDFファイル名から新しいPDFファイル名を生成\n",
    "    base_name = os.path.basename(input_path)\n",
    "    name_without_extension = os.path.splitext(base_name)[0]\n",
    "    output_name = f\"{name_without_extension}_unlocked.pdf\"\n",
    "    output_path = os.path.join(os.getcwd(), output_name)  # 実行コマンドのディレクトリ（カレントディレクトリ）に保存\n",
    "\n",
    "    # PDFファイルを読み込む\n",
    "    with open(input_path, 'rb') as f:\n",
    "        reader = PdfReader(f)\n",
    "        \n",
    "        # パスワードでPDFを解除\n",
    "        if reader.is_encrypted:\n",
    "            reader.decrypt(password)\n",
    "        \n",
    "        # 新しいPDFファイルを作成\n",
    "        writer = PdfWriter()\n",
    "        \n",
    "        # すべてのページをコピー\n",
    "        for i in range(len(reader.pages)):\n",
    "            page = reader.pages[i]\n",
    "            writer.add_page(page)\n",
    "        \n",
    "        # 新しいPDFファイルに保存\n",
    "        with open(output_path, 'wb') as f_out:\n",
    "            writer.write(f_out)\n",
    "\n",
    "# 使用例\n",
    "input_path = r\"C:\\Users\\toran\\localgit\\jupyter_on_vscode\\2926_slide (1).pdf\"  # パスワード付きのPDFファイルのパス\n",
    "password = \"Sutepass\"  # PDFのパスワード\n",
    "\n",
    "decrypt_pdf(input_path, password)\n"
   ]
  }
 ],
 "metadata": {
  "kernelspec": {
   "display_name": "jupyte-on-vscode-Zgb-ctza-py3.11",
   "language": "python",
   "name": "python3"
  },
  "language_info": {
   "codemirror_mode": {
    "name": "ipython",
    "version": 3
   },
   "file_extension": ".py",
   "mimetype": "text/x-python",
   "name": "python",
   "nbconvert_exporter": "python",
   "pygments_lexer": "ipython3",
   "version": "3.11.3"
  },
  "orig_nbformat": 4
 },
 "nbformat": 4,
 "nbformat_minor": 2
}
