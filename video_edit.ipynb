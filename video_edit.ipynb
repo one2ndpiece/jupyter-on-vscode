{
 "cells": [
  {
   "cell_type": "code",
   "execution_count": 1,
   "metadata": {},
   "outputs": [
    {
     "name": "stdout",
     "output_type": "stream",
     "text": [
      "aiofiles                  23.2.1     File support for asyncio.\n",
      "aiohttp                   3.8.5      Async http client/server framework (as...\n",
      "aiosignal                 1.3.1      aiosignal: a list of registered asynch...\n",
      "altair                    5.0.1      Vega-Altair: A declarative statistical...\n",
      "annotated-types           0.5.0      Reusable constraint types to use with ...\n",
      "anyio                     3.7.1      High level compatibility layer for mul...\n",
      "asttokens                 2.2.1      Annotate AST trees with source code po...\n",
      "async-timeout             4.0.3      Timeout context manager for asyncio pr...\n",
      "attrs                     23.1.0     Classes Without Boilerplate\n",
      "backcall                  0.2.0      Specifications for callback functions ...\n",
      "brotli                    1.0.9      Python bindings for the Brotli compres...\n",
      "certifi                   2023.7.22  Python package for providing Mozilla's...\n",
      "charset-normalizer        3.2.0      The Real First Universal Charset Detec...\n",
      "click                     8.1.6      Composable command line interface toolkit\n",
      "colorama                  0.4.6      Cross-platform colored terminal text.\n",
      "comm                      0.1.4      Jupyter Python Comm implementation, fo...\n",
      "contourpy                 1.1.0      Python library for calculating contour...\n",
      "cycler                    0.11.0     Composable style cycles\n",
      "debugpy                   1.6.7      An implementation of the Debug Adapter...\n",
      "decorator                 4.4.2      Decorators for Humans\n",
      "executing                 1.2.0      Get the currently executing AST node o...\n",
      "fastapi                   0.101.1    FastAPI framework, high performance, e...\n",
      "ffmpy                     0.3.1      A simple Python wrapper for ffmpeg\n",
      "filelock                  3.12.2     A platform independent file lock.\n",
      "fonttools                 4.42.0     Tools to manipulate font files\n",
      "frozenlist                1.4.0      A list-like structure which implements...\n",
      "fsspec                    2023.6.0   File-system specification\n",
      "gradio                    3.40.1     Python library for easily interacting ...\n",
      "gradio-client             0.4.0      Python library for easily interacting ...\n",
      "h11                       0.14.0     A pure-Python, bring-your-own-I/O impl...\n",
      "httpcore                  0.17.3     A minimal low-level HTTP client.\n",
      "httpx                     0.24.1     The next generation HTTP client.\n",
      "huggingface-hub           0.16.4     Client library to download and publish...\n",
      "idna                      3.4        Internationalized Domain Names in Appl...\n",
      "imageio                   2.31.1     Library for reading and writing a wide...\n",
      "imageio-ffmpeg            0.4.8      FFMPEG wrapper for Python\n",
      "importlib-resources       6.0.1      Read resources from Python packages\n",
      "ipykernel                 6.25.1     IPython Kernel for Jupyter\n",
      "ipython                   8.14.0     IPython: Productive Interactive Computing\n",
      "ipywidgets                8.1.0      Jupyter interactive widgets\n",
      "iso8601                   2.0.0      Simple module to parse ISO 8601 dates\n",
      "jedi                      0.18.2     An autocompletion tool for Python that...\n",
      "jinja2                    3.1.2      A very fast and expressive template en...\n",
      "jsonschema                4.19.0     An implementation of JSON Schema valid...\n",
      "jsonschema-specifications 2023.7.1   The JSON Schema meta-schemas and vocab...\n",
      "jupyter-client            8.3.0      Jupyter protocol implementation and cl...\n",
      "jupyter-core              5.3.1      Jupyter core package. A base package o...\n",
      "jupyterlab-widgets        3.0.8      Jupyter interactive widgets for Jupyte...\n",
      "kiwisolver                1.4.4      A fast implementation of the Cassowary...\n",
      "linkify-it-py             2.0.2      Links recognition library with FULL un...\n",
      "m3u8                      3.5.0      Python m3u8 parser\n",
      "markdown-it-py            2.2.0      Python port of markdown-it. Markdown p...\n",
      "markupsafe                2.1.3      Safely add untrusted strings to HTML/X...\n",
      "matplotlib                3.7.2      Python plotting package\n",
      "matplotlib-inline         0.1.6      Inline Matplotlib backend for Jupyter\n",
      "mdit-py-plugins           0.3.3      Collection of plugins for markdown-it-py\n",
      "mdurl                     0.1.2      Markdown URL utilities\n",
      "moviepy                   1.0.3      Video editing with Python\n",
      "multidict                 6.0.4      multidict implementation\n",
      "mutagen                   1.46.0     read and write audio tags for many for...\n",
      "nest-asyncio              1.5.7      Patch asyncio to allow nested event loops\n",
      "numpy                     1.25.1     Fundamental package for array computin...\n",
      "orjson                    3.9.4      Fast, correct Python JSON library supp...\n",
      "packaging                 23.1       Core utilities for Python packages\n",
      "pandas                    2.0.3      Powerful data structures for data anal...\n",
      "parso                     0.8.3      A Python Parser\n",
      "pickleshare               0.7.5      Tiny 'shelve'-like database with concu...\n",
      "pillow                    10.0.0     Python Imaging Library (Fork)\n",
      "platformdirs              3.10.0     A small Python package for determining...\n",
      "proglog                   0.1.10     Log and progress bar manager for conso...\n",
      "prompt-toolkit            3.0.39     Library for building powerful interact...\n",
      "psutil                    5.9.5      Cross-platform lib for process and sys...\n",
      "pure-eval                 0.2.2      Safely evaluate AST nodes without side...\n",
      "pycryptodomex             3.18.0     Cryptographic library for Python\n",
      "pydantic                  2.1.1      Data validation using Python type hints\n",
      "pydantic-core             2.4.0      \n",
      "pydub                     0.25.1     Manipulate audio with an simple and ea...\n",
      "pygments                  2.15.1     Pygments is a syntax highlighting pack...\n",
      "pyparsing                 3.0.9      pyparsing module - Classes and methods...\n",
      "python-dateutil           2.8.2      Extensions to the standard Python date...\n",
      "python-multipart          0.0.6      A streaming multipart parser for Python\n",
      "pytz                      2023.3     World timezone definitions, modern and...\n",
      "pywin32                   306        Python for Window Extensions\n",
      "pyyaml                    6.0.1      YAML parser and emitter for Python\n",
      "pyzmq                     25.1.0     Python bindings for 0MQ\n",
      "referencing               0.30.2     JSON Referencing + Python\n",
      "requests                  2.31.0     Python HTTP for Humans.\n",
      "rpds-py                   0.9.2      Python bindings to Rust's persistent d...\n",
      "semantic-version          2.10.0     A library implementing the 'SemVer' sc...\n",
      "six                       1.16.0     Python 2 and 3 compatibility utilities\n",
      "sniffio                   1.3.0      Sniff out which async library your cod...\n",
      "stack-data                0.6.2      Extract data from python stack frames ...\n",
      "starlette                 0.27.0     The little ASGI library that shines.\n",
      "toolz                     0.12.0     List processing tools and functional u...\n",
      "tornado                   6.3.2      Tornado is a Python web framework and ...\n",
      "tqdm                      4.66.1     Fast, Extensible Progress Meter\n",
      "traitlets                 5.9.0      Traitlets Python configuration system\n",
      "twitch-dl                 2.1.3      Twitch downloader\n",
      "typing-extensions         4.7.1      Backported and Experimental Type Hints...\n",
      "tzdata                    2023.3     Provider of IANA time zone data\n",
      "uc-micro-py               1.0.2      Micro subset of unicode data files for...\n",
      "urllib3                   2.0.4      HTTP library with thread-safe connecti...\n",
      "uvicorn                   0.23.2     The lightning-fast ASGI server.\n",
      "wcwidth                   0.2.6      Measures the displayed width of unicod...\n",
      "websockets                11.0.3     An implementation of the WebSocket Pro...\n",
      "widgetsnbextension        4.0.8      Jupyter interactive widgets for Jupyte...\n",
      "yarl                      1.9.2      Yet another URL library\n",
      "youtube-dl                2021.12.17 YouTube video downloader\n",
      "yt-dlp                    2023.7.6   A youtube-dl fork with additional feat...\n"
     ]
    }
   ],
   "source": [
    "!poetry show"
   ]
  },
  {
   "cell_type": "code",
   "execution_count": 8,
   "metadata": {},
   "outputs": [
    {
     "data": {
      "image/png": "[encoded data removed]",
      "text/plain": [
       "<Figure size 640x480 with 1 Axes>"
      ]
     },
     "metadata": {},
     "output_type": "display_data"
    }
   ],
   "source": [
    "# トリミング区間の確認\n",
    "from moviepy.editor import VideoFileClip\n",
    "import matplotlib.pyplot as plt\n",
    "\n",
    "# 入力動画の読み込み\n",
    "clip = VideoFileClip(r\"C:\\Users\\toran\\Videos\\Captures\\AssetManagementFrontend - Google Chrome 2023-09-26 18-02-13.mp4\")\n",
    "\n",
    "# 抽出するフレームの時間を指定（秒）\n",
    "time = 5.0  # 5秒目のフレームを抽出\n",
    "\n",
    "# フレームを抽出\n",
    "frame = clip.get_frame(time)\n",
    "\n",
    "# トリミングする座標を指定（x1, y1, x2, y2）\n",
    "x1, y1, x2, y2 = 0, 120, 2000, 700\n",
    "\n",
    "# トリミング処理\n",
    "trimmed_frame = frame[y1:y2, x1:x2]\n",
    "\n",
    "# トリミング後のフレームを表示\n",
    "plt.imshow(trimmed_frame)\n",
    "plt.axis('off')\n",
    "plt.show()\n"
   ]
  },
  {
   "cell_type": "code",
   "execution_count": 9,
   "metadata": {},
   "outputs": [
    {
     "name": "stdout",
     "output_type": "stream",
     "text": [
      "Moviepy - Building video 資産管理台帳.mp4.\n",
      "MoviePy - Writing audio in 資産管理台帳TEMP_MPY_wvf_snd.mp3\n"
     ]
    },
    {
     "name": "stderr",
     "output_type": "stream",
     "text": [
      "                                                                      \r"
     ]
    },
    {
     "name": "stdout",
     "output_type": "stream",
     "text": [
      "MoviePy - Done.\n",
      "Moviepy - Writing video 資産管理台帳.mp4\n",
      "\n"
     ]
    },
    {
     "name": "stderr",
     "output_type": "stream",
     "text": [
      "                                                                 \r"
     ]
    },
    {
     "name": "stdout",
     "output_type": "stream",
     "text": [
      "Moviepy - Done !\n",
      "Moviepy - video ready 資産管理台帳.mp4\n"
     ]
    }
   ],
   "source": [
    "#動画の画面のトリミング\n",
    "from moviepy.editor import VideoFileClip\n",
    "\n",
    "# 入力動画の読み込み\n",
    "clip = VideoFileClip(r\"C:\\Users\\toran\\Videos\\Captures\\AssetManagementFrontend - Google Chrome 2023-09-26 18-02-13.mp4\")\n",
    "\n",
    "# トリミングする座標を指定（x1, y1, x2, y2）\n",
    "x1, y1, x2, y2 =0, 120, 2000, 700\n",
    "\n",
    "# トリミング処理\n",
    "trimmed_clip = clip.crop(x1=x1, y1=y1, x2=x2, y2=y2)\n",
    "\n",
    "# 出力動画を保存\n",
    "trimmed_clip.write_videofile(\"資産管理台帳.mp4\")\n"
   ]
  },
  {
   "cell_type": "code",
   "execution_count": 10,
   "metadata": {},
   "outputs": [
    {
     "name": "stdout",
     "output_type": "stream",
     "text": [
      "Moviepy - Building video 資産管理台帳2.mp4.\n",
      "Moviepy - Writing video 資産管理台帳2.mp4\n",
      "\n"
     ]
    },
    {
     "name": "stderr",
     "output_type": "stream",
     "text": [
      "                                                                 \r"
     ]
    },
    {
     "name": "stdout",
     "output_type": "stream",
     "text": [
      "Moviepy - Done !\n",
      "Moviepy - video ready 資産管理台帳2.mp4\n",
      "音声を完全に削除しました。\n"
     ]
    }
   ],
   "source": [
    "#音を消す\n",
    "import moviepy.editor as mp\n",
    "\n",
    "# 入力動画ファイルと出力動画ファイル名を指定\n",
    "input_video_file = r'C:\\Users\\toran\\localgit\\jupyter_on_vscode\\資産管理台帳.mp4'\n",
    "output_video_file = '資産管理台帳2.mp4'\n",
    "\n",
    "# 動画を読み込む\n",
    "video = mp.VideoFileClip(input_video_file)\n",
    "\n",
    "# 音声トラックを削除\n",
    "video_without_audio = video.set_audio(None)\n",
    "\n",
    "# 動画を保存\n",
    "video_without_audio.write_videofile(output_video_file, codec='libx264')\n",
    "\n",
    "print(\"音声を完全に削除しました。\")\n"
   ]
  },
  {
   "cell_type": "code",
   "execution_count": 11,
   "metadata": {},
   "outputs": [
    {
     "name": "stdout",
     "output_type": "stream",
     "text": [
      "Moviepy - Building video 資産管理台帳_trimmed_video.mp4.\n",
      "Moviepy - Writing video 資産管理台帳_trimmed_video.mp4\n",
      "\n"
     ]
    },
    {
     "name": "stderr",
     "output_type": "stream",
     "text": [
      "                                                                 "
     ]
    },
    {
     "name": "stdout",
     "output_type": "stream",
     "text": [
      "Moviepy - Done !\n",
      "Moviepy - video ready 資産管理台帳_trimmed_video.mp4\n",
      "動画をトリミングしました。\n"
     ]
    },
    {
     "name": "stderr",
     "output_type": "stream",
     "text": [
      "\r"
     ]
    }
   ],
   "source": [
    "#区間のトリミング\n",
    "import moviepy.editor as mp\n",
    "\n",
    "# 入力動画ファイルと出力動画ファイル名を指定\n",
    "input_video_file = r'C:\\Users\\toran\\localgit\\jupyter_on_vscode\\資産管理台帳2.mp4'\n",
    "output_video_file = '資産管理台帳_trimmed_video.mp4'\n",
    "\n",
    "# トリミングする範囲（秒）を指定\n",
    "start_time = 0  # トリミングを開始する時間\n",
    "end_time = 32    # トリミングを終了する時間\n",
    "\n",
    "# 動画を読み込む\n",
    "video = mp.VideoFileClip(input_video_file)\n",
    "\n",
    "# 指定した範囲内の動画をトリミング\n",
    "trimmed_video = video.subclip(start_time, end_time)\n",
    "\n",
    "# トリミングした動画を保存\n",
    "trimmed_video.write_videofile(output_video_file, codec='libx264')\n",
    "\n",
    "print(\"動画をトリミングしました。\")\n"
   ]
  },
  {
   "cell_type": "code",
   "execution_count": null,
   "metadata": {},
   "outputs": [],
   "source": []
  }
 ],
 "metadata": {
  "kernelspec": {
   "display_name": "jupyte-on-vscode-Zgb-ctza-py3.11",
   "language": "python",
   "name": "python3"
  },
  "language_info": {
   "codemirror_mode": {
    "name": "ipython",
    "version": 3
   },
   "file_extension": ".py",
   "mimetype": "text/x-python",
   "name": "python",
   "nbconvert_exporter": "python",
   "pygments_lexer": "ipython3",
   "version": "3.11.3"
  },
  "orig_nbformat": 4
 },
 "nbformat": 4,
 "nbformat_minor": 2
}
