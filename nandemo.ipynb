{
 "cells": [
  {
   "cell_type": "code",
   "execution_count": 1,
   "metadata": {},
   "outputs": [
    {
     "name": "stdout",
     "output_type": "stream",
     "text": [
      "Using version ^0.0.28 for notion\n",
      "\n",
      "Updating dependencies\n",
      "Resolving dependencies...\n",
      "\n",
      "Package operations: 10 installs, 0 updates, 0 removals\n",
      "\n",
      "  • Installing soupsieve (2.5)\n",
      "  • Installing beautifulsoup4 (4.12.2)\n",
      "  • Installing text-unidecode (1.3)\n",
      "  • Installing bs4 (0.0.1)\n",
      "  • Installing cached-property (1.5.2)\n",
      "  • Installing commonmark (0.9.1)\n",
      "  • Installing dictdiffer (0.9.0)\n",
      "  • Installing python-slugify (8.0.1)\n",
      "  • Installing tzlocal (5.0.1)\n",
      "  • Installing notion (0.0.28)\n",
      "\n",
      "Writing lock file\n"
     ]
    }
   ],
   "source": [
    "!poetry add notion"
   ]
  }
 ],
 "metadata": {
  "kernelspec": {
   "display_name": "jupyte-on-vscode-Zgb-ctza-py3.11",
   "language": "python",
   "name": "python3"
  },
  "language_info": {
   "codemirror_mode": {
    "name": "ipython",
    "version": 3
   },
   "file_extension": ".py",
   "mimetype": "text/x-python",
   "name": "python",
   "nbconvert_exporter": "python",
   "pygments_lexer": "ipython3",
   "version": "3.11.3"
  },
  "orig_nbformat": 4
 },
 "nbformat": 4,
 "nbformat_minor": 2
}
